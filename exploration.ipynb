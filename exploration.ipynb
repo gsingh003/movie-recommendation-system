{
 "cells": [
  {
   "cell_type": "markdown",
   "id": "9e5f6944",
   "metadata": {},
   "source": [
    "# Introduction\n",
    "\n",
    "In this file, I will do an initial exploratory analysis to understand the problem. There won't be a complete solution in this file and things may be a bit loose for the sake of speed."
   ]
  },
  {
   "cell_type": "code",
   "execution_count": 1,
   "id": "a1bbbdb2",
   "metadata": {},
   "outputs": [
    {
     "data": {
      "application/vnd.microsoft.datawrangler.viewer.v0+json": {
       "columns": [
        {
         "name": "index",
         "rawType": "int64",
         "type": "integer"
        },
        {
         "name": "movieId",
         "rawType": "int64",
         "type": "integer"
        },
        {
         "name": "title",
         "rawType": "object",
         "type": "string"
        },
        {
         "name": "genres",
         "rawType": "object",
         "type": "string"
        }
       ],
       "ref": "d3b3d6b8-c832-40f9-9e78-babba009628a",
       "rows": [
        [
         "0",
         "1",
         "Toy Story (1995)",
         "Adventure|Animation|Children|Comedy|Fantasy"
        ],
        [
         "1",
         "2",
         "Jumanji (1995)",
         "Adventure|Children|Fantasy"
        ],
        [
         "2",
         "3",
         "Grumpier Old Men (1995)",
         "Comedy|Romance"
        ],
        [
         "3",
         "4",
         "Waiting to Exhale (1995)",
         "Comedy|Drama|Romance"
        ],
        [
         "4",
         "5",
         "Father of the Bride Part II (1995)",
         "Comedy"
        ],
        [
         "5",
         "6",
         "Heat (1995)",
         "Action|Crime|Thriller"
        ],
        [
         "6",
         "7",
         "Sabrina (1995)",
         "Comedy|Romance"
        ],
        [
         "7",
         "8",
         "Tom and Huck (1995)",
         "Adventure|Children"
        ],
        [
         "8",
         "9",
         "Sudden Death (1995)",
         "Action"
        ],
        [
         "9",
         "10",
         "GoldenEye (1995)",
         "Action|Adventure|Thriller"
        ]
       ],
       "shape": {
        "columns": 3,
        "rows": 10
       }
      },
      "text/html": [
       "<div>\n",
       "<style scoped>\n",
       "    .dataframe tbody tr th:only-of-type {\n",
       "        vertical-align: middle;\n",
       "    }\n",
       "\n",
       "    .dataframe tbody tr th {\n",
       "        vertical-align: top;\n",
       "    }\n",
       "\n",
       "    .dataframe thead th {\n",
       "        text-align: right;\n",
       "    }\n",
       "</style>\n",
       "<table border=\"1\" class=\"dataframe\">\n",
       "  <thead>\n",
       "    <tr style=\"text-align: right;\">\n",
       "      <th></th>\n",
       "      <th>movieId</th>\n",
       "      <th>title</th>\n",
       "      <th>genres</th>\n",
       "    </tr>\n",
       "  </thead>\n",
       "  <tbody>\n",
       "    <tr>\n",
       "      <th>0</th>\n",
       "      <td>1</td>\n",
       "      <td>Toy Story (1995)</td>\n",
       "      <td>Adventure|Animation|Children|Comedy|Fantasy</td>\n",
       "    </tr>\n",
       "    <tr>\n",
       "      <th>1</th>\n",
       "      <td>2</td>\n",
       "      <td>Jumanji (1995)</td>\n",
       "      <td>Adventure|Children|Fantasy</td>\n",
       "    </tr>\n",
       "    <tr>\n",
       "      <th>2</th>\n",
       "      <td>3</td>\n",
       "      <td>Grumpier Old Men (1995)</td>\n",
       "      <td>Comedy|Romance</td>\n",
       "    </tr>\n",
       "    <tr>\n",
       "      <th>3</th>\n",
       "      <td>4</td>\n",
       "      <td>Waiting to Exhale (1995)</td>\n",
       "      <td>Comedy|Drama|Romance</td>\n",
       "    </tr>\n",
       "    <tr>\n",
       "      <th>4</th>\n",
       "      <td>5</td>\n",
       "      <td>Father of the Bride Part II (1995)</td>\n",
       "      <td>Comedy</td>\n",
       "    </tr>\n",
       "    <tr>\n",
       "      <th>5</th>\n",
       "      <td>6</td>\n",
       "      <td>Heat (1995)</td>\n",
       "      <td>Action|Crime|Thriller</td>\n",
       "    </tr>\n",
       "    <tr>\n",
       "      <th>6</th>\n",
       "      <td>7</td>\n",
       "      <td>Sabrina (1995)</td>\n",
       "      <td>Comedy|Romance</td>\n",
       "    </tr>\n",
       "    <tr>\n",
       "      <th>7</th>\n",
       "      <td>8</td>\n",
       "      <td>Tom and Huck (1995)</td>\n",
       "      <td>Adventure|Children</td>\n",
       "    </tr>\n",
       "    <tr>\n",
       "      <th>8</th>\n",
       "      <td>9</td>\n",
       "      <td>Sudden Death (1995)</td>\n",
       "      <td>Action</td>\n",
       "    </tr>\n",
       "    <tr>\n",
       "      <th>9</th>\n",
       "      <td>10</td>\n",
       "      <td>GoldenEye (1995)</td>\n",
       "      <td>Action|Adventure|Thriller</td>\n",
       "    </tr>\n",
       "  </tbody>\n",
       "</table>\n",
       "</div>"
      ],
      "text/plain": [
       "   movieId                               title  \\\n",
       "0        1                    Toy Story (1995)   \n",
       "1        2                      Jumanji (1995)   \n",
       "2        3             Grumpier Old Men (1995)   \n",
       "3        4            Waiting to Exhale (1995)   \n",
       "4        5  Father of the Bride Part II (1995)   \n",
       "5        6                         Heat (1995)   \n",
       "6        7                      Sabrina (1995)   \n",
       "7        8                 Tom and Huck (1995)   \n",
       "8        9                 Sudden Death (1995)   \n",
       "9       10                    GoldenEye (1995)   \n",
       "\n",
       "                                        genres  \n",
       "0  Adventure|Animation|Children|Comedy|Fantasy  \n",
       "1                   Adventure|Children|Fantasy  \n",
       "2                               Comedy|Romance  \n",
       "3                         Comedy|Drama|Romance  \n",
       "4                                       Comedy  \n",
       "5                        Action|Crime|Thriller  \n",
       "6                               Comedy|Romance  \n",
       "7                           Adventure|Children  \n",
       "8                                       Action  \n",
       "9                    Action|Adventure|Thriller  "
      ]
     },
     "execution_count": 1,
     "metadata": {},
     "output_type": "execute_result"
    }
   ],
   "source": [
    "import pandas as pd \n",
    "\n",
    "movies = pd.read_csv('data/movies.csv')\n",
    "movies.head(10)"
   ]
  },
  {
   "cell_type": "code",
   "execution_count": 2,
   "id": "d25b5b05",
   "metadata": {},
   "outputs": [
    {
     "data": {
      "application/vnd.microsoft.datawrangler.viewer.v0+json": {
       "columns": [
        {
         "name": "index",
         "rawType": "int64",
         "type": "integer"
        },
        {
         "name": "movieId",
         "rawType": "int64",
         "type": "integer"
        },
        {
         "name": "title",
         "rawType": "object",
         "type": "string"
        },
        {
         "name": "genres",
         "rawType": "object",
         "type": "string"
        }
       ],
       "ref": "109a87fc-4638-444e-b504-b13fa586b939",
       "rows": [
        [
         "62413",
         "209145",
         "Liberté (2019)",
         "Drama"
        ],
        [
         "62414",
         "209147",
         "The Carpet of Horror (1962)",
         "Crime|Horror"
        ],
        [
         "62415",
         "209151",
         "Mao Zedong 1949 (2019)",
         "(no genres listed)"
        ],
        [
         "62416",
         "209153",
         "Happy Flight (2008)",
         "Comedy|Drama"
        ],
        [
         "62417",
         "209155",
         "Santosh Subramaniam (2008)",
         "Action|Comedy|Romance"
        ],
        [
         "62418",
         "209157",
         "We (2018)",
         "Drama"
        ],
        [
         "62419",
         "209159",
         "Window of the Soul (2001)",
         "Documentary"
        ],
        [
         "62420",
         "209163",
         "Bad Poems (2018)",
         "Comedy|Drama"
        ],
        [
         "62421",
         "209169",
         "A Girl Thing (2001)",
         "(no genres listed)"
        ],
        [
         "62422",
         "209171",
         "Women of Devil's Island (1962)",
         "Action|Adventure|Drama"
        ]
       ],
       "shape": {
        "columns": 3,
        "rows": 10
       }
      },
      "text/html": [
       "<div>\n",
       "<style scoped>\n",
       "    .dataframe tbody tr th:only-of-type {\n",
       "        vertical-align: middle;\n",
       "    }\n",
       "\n",
       "    .dataframe tbody tr th {\n",
       "        vertical-align: top;\n",
       "    }\n",
       "\n",
       "    .dataframe thead th {\n",
       "        text-align: right;\n",
       "    }\n",
       "</style>\n",
       "<table border=\"1\" class=\"dataframe\">\n",
       "  <thead>\n",
       "    <tr style=\"text-align: right;\">\n",
       "      <th></th>\n",
       "      <th>movieId</th>\n",
       "      <th>title</th>\n",
       "      <th>genres</th>\n",
       "    </tr>\n",
       "  </thead>\n",
       "  <tbody>\n",
       "    <tr>\n",
       "      <th>62413</th>\n",
       "      <td>209145</td>\n",
       "      <td>Liberté (2019)</td>\n",
       "      <td>Drama</td>\n",
       "    </tr>\n",
       "    <tr>\n",
       "      <th>62414</th>\n",
       "      <td>209147</td>\n",
       "      <td>The Carpet of Horror (1962)</td>\n",
       "      <td>Crime|Horror</td>\n",
       "    </tr>\n",
       "    <tr>\n",
       "      <th>62415</th>\n",
       "      <td>209151</td>\n",
       "      <td>Mao Zedong 1949 (2019)</td>\n",
       "      <td>(no genres listed)</td>\n",
       "    </tr>\n",
       "    <tr>\n",
       "      <th>62416</th>\n",
       "      <td>209153</td>\n",
       "      <td>Happy Flight (2008)</td>\n",
       "      <td>Comedy|Drama</td>\n",
       "    </tr>\n",
       "    <tr>\n",
       "      <th>62417</th>\n",
       "      <td>209155</td>\n",
       "      <td>Santosh Subramaniam (2008)</td>\n",
       "      <td>Action|Comedy|Romance</td>\n",
       "    </tr>\n",
       "    <tr>\n",
       "      <th>62418</th>\n",
       "      <td>209157</td>\n",
       "      <td>We (2018)</td>\n",
       "      <td>Drama</td>\n",
       "    </tr>\n",
       "    <tr>\n",
       "      <th>62419</th>\n",
       "      <td>209159</td>\n",
       "      <td>Window of the Soul (2001)</td>\n",
       "      <td>Documentary</td>\n",
       "    </tr>\n",
       "    <tr>\n",
       "      <th>62420</th>\n",
       "      <td>209163</td>\n",
       "      <td>Bad Poems (2018)</td>\n",
       "      <td>Comedy|Drama</td>\n",
       "    </tr>\n",
       "    <tr>\n",
       "      <th>62421</th>\n",
       "      <td>209169</td>\n",
       "      <td>A Girl Thing (2001)</td>\n",
       "      <td>(no genres listed)</td>\n",
       "    </tr>\n",
       "    <tr>\n",
       "      <th>62422</th>\n",
       "      <td>209171</td>\n",
       "      <td>Women of Devil's Island (1962)</td>\n",
       "      <td>Action|Adventure|Drama</td>\n",
       "    </tr>\n",
       "  </tbody>\n",
       "</table>\n",
       "</div>"
      ],
      "text/plain": [
       "       movieId                           title                  genres\n",
       "62413   209145                  Liberté (2019)                   Drama\n",
       "62414   209147     The Carpet of Horror (1962)            Crime|Horror\n",
       "62415   209151          Mao Zedong 1949 (2019)      (no genres listed)\n",
       "62416   209153             Happy Flight (2008)            Comedy|Drama\n",
       "62417   209155      Santosh Subramaniam (2008)   Action|Comedy|Romance\n",
       "62418   209157                       We (2018)                   Drama\n",
       "62419   209159       Window of the Soul (2001)             Documentary\n",
       "62420   209163                Bad Poems (2018)            Comedy|Drama\n",
       "62421   209169             A Girl Thing (2001)      (no genres listed)\n",
       "62422   209171  Women of Devil's Island (1962)  Action|Adventure|Drama"
      ]
     },
     "execution_count": 2,
     "metadata": {},
     "output_type": "execute_result"
    }
   ],
   "source": [
    "movies.tail(10)"
   ]
  },
  {
   "cell_type": "code",
   "execution_count": 3,
   "id": "cc5c092e",
   "metadata": {},
   "outputs": [
    {
     "data": {
      "application/vnd.microsoft.datawrangler.viewer.v0+json": {
       "columns": [
        {
         "name": "index",
         "rawType": "int64",
         "type": "integer"
        },
        {
         "name": "clean_title",
         "rawType": "object",
         "type": "string"
        }
       ],
       "ref": "03151879-dd3d-4c75-8a28-1aa6e5f9cf52",
       "rows": [
        [
         "0",
         "Toy Story 1995"
        ],
        [
         "1",
         "Jumanji 1995"
        ],
        [
         "2",
         "Grumpier Old Men 1995"
        ],
        [
         "3",
         "Waiting to Exhale 1995"
        ],
        [
         "4",
         "Father of the Bride Part II 1995"
        ],
        [
         "5",
         "Heat 1995"
        ],
        [
         "6",
         "Sabrina 1995"
        ],
        [
         "7",
         "Tom and Huck 1995"
        ],
        [
         "8",
         "Sudden Death 1995"
        ],
        [
         "9",
         "GoldenEye 1995"
        ]
       ],
       "shape": {
        "columns": 1,
        "rows": 10
       }
      },
      "text/plain": [
       "0                      Toy Story 1995\n",
       "1                        Jumanji 1995\n",
       "2               Grumpier Old Men 1995\n",
       "3              Waiting to Exhale 1995\n",
       "4    Father of the Bride Part II 1995\n",
       "5                           Heat 1995\n",
       "6                        Sabrina 1995\n",
       "7                   Tom and Huck 1995\n",
       "8                   Sudden Death 1995\n",
       "9                      GoldenEye 1995\n",
       "Name: clean_title, dtype: object"
      ]
     },
     "execution_count": 3,
     "metadata": {},
     "output_type": "execute_result"
    }
   ],
   "source": [
    "# extra characters like parentheses in the movie titles will make it difficult to search for movies.\n",
    "# I will use regular expressions to clean up the title column by removing any character that isn't a letter, digit, or a space.\n",
    "\n",
    "import re \n",
    "\n",
    "def clean_title(title: str) -> str:\n",
    "    return re.sub(\"[^a-zA-Z0-9 ]\", \"\", title)\n",
    "\n",
    "movies['clean_title'] = movies['title'].apply(lambda title: clean_title(title))\n",
    "movies['clean_title'].head(10)"
   ]
  },
  {
   "cell_type": "markdown",
   "id": "51746362",
   "metadata": {},
   "source": [
    "Since the movie titles are text-based and ML models don't work directly on words, I will use the `TfidfVectorizer` tool in python to transform the text data into numerical form that captures how important each word is."
   ]
  },
  {
   "cell_type": "code",
   "execution_count": 4,
   "id": "3a892c47",
   "metadata": {},
   "outputs": [
    {
     "name": "stdout",
     "output_type": "stream",
     "text": [
      "<Compressed Sparse Row sparse matrix of dtype 'float64'\n",
      "\twith 446566 stored elements and shape (62423, 170073)>\n",
      "  Coords\tValues\n",
      "  (0, 153609)\t0.4788631896261391\n",
      "  (0, 138134)\t0.30818287987354687\n",
      "  (0, 763)\t0.2947573407787223\n",
      "  (0, 153617)\t0.5236464902527855\n",
      "  (0, 138180)\t0.5609151642422612\n",
      "  (1, 763)\t0.3284429867728573\n",
      "  (1, 76515)\t0.6556226145512709\n",
      "  (1, 76516)\t0.679914841526996\n",
      "  (2, 763)\t0.22159051090518359\n",
      "  (2, 61531)\t0.4587178998289233\n",
      "  (2, 107020)\t0.2945915056134832\n",
      "  (2, 93306)\t0.2658829644982531\n",
      "  (2, 61532)\t0.4587178998289233\n",
      "  (2, 107075)\t0.4026827592738571\n",
      "  (2, 93339)\t0.4587178998289233\n",
      "  (3, 763)\t0.21653641961669365\n",
      "  (3, 161345)\t0.3375257478128795\n",
      "  (3, 151795)\t0.18830007825002149\n",
      "  (3, 47814)\t0.4482553482876627\n",
      "  (3, 161363)\t0.4482553482876627\n",
      "  (3, 151964)\t0.4482553482876627\n",
      "  (3, 47815)\t0.4482553482876627\n",
      "  (4, 763)\t0.19764049948025617\n",
      "  (4, 49639)\t0.2743880168654919\n",
      "  (4, 104437)\t0.1176070632906874\n",
      "  :\t:\n",
      "  (62419, 165119)\t0.3842738783112516\n",
      "  (62419, 842)\t0.21664294220561653\n",
      "  (62419, 135163)\t0.335141385640017\n",
      "  (62419, 148606)\t0.4183256702981802\n",
      "  (62419, 165130)\t0.47653759319058564\n",
      "  (62419, 135172)\t0.47653759319058564\n",
      "  (62420, 12286)\t0.3283595330636027\n",
      "  (62420, 892)\t0.21136300980350198\n",
      "  (62420, 114905)\t0.5091970760558331\n",
      "  (62420, 12376)\t0.542320953342782\n",
      "  (62420, 114907)\t0.542320953342782\n",
      "  (62421, 58282)\t0.3138870048540488\n",
      "  (62421, 150051)\t0.41654076435521686\n",
      "  (62421, 842)\t0.26983928187857303\n",
      "  (62421, 150062)\t0.5723440843449776\n",
      "  (62421, 58439)\t0.5723440843449776\n",
      "  (62422, 104437)\t0.12740993355811386\n",
      "  (62422, 73452)\t0.26792844616620376\n",
      "  (62422, 166373)\t0.2756686566320553\n",
      "  (62422, 674)\t0.24886479219075572\n",
      "  (62422, 38943)\t0.29500074514513513\n",
      "  (62422, 166450)\t0.3766589696192012\n",
      "  (62422, 38989)\t0.40745380510374735\n",
      "  (62422, 73473)\t0.4274051580062007\n",
      "  (62422, 104945)\t0.44324143771718727\n"
     ]
    }
   ],
   "source": [
    "from sklearn.feature_extraction.text import TfidfVectorizer\n",
    "\n",
    "vectorizer = TfidfVectorizer(ngram_range=(1, 2))\n",
    "\n",
    "tfidf = vectorizer.fit_transform(movies['clean_title'])\n",
    "print(tfidf)"
   ]
  },
  {
   "cell_type": "markdown",
   "id": "e2e951ac",
   "metadata": {},
   "source": [
    "With the `tfidf` matrix calculated, computing the similarity between our search term and the titles in our data becomes much more straightforward. The `scikit-learn` library has a handy function called `cosine_similarity()` to accomplish this."
   ]
  },
  {
   "cell_type": "code",
   "execution_count": 5,
   "id": "df2b583f",
   "metadata": {},
   "outputs": [
    {
     "data": {
      "text/plain": [
       "array([0.29475734, 0.32844299, 0.22159051, ..., 0.        , 0.        ,\n",
       "       0.        ], shape=(62423,))"
      ]
     },
     "execution_count": 5,
     "metadata": {},
     "output_type": "execute_result"
    }
   ],
   "source": [
    "from sklearn.metrics.pairwise import cosine_similarity\n",
    "import numpy as np \n",
    "\n",
    "# for each given search term (title), this function will create and return an NDArray whose cells are values between 0 and 1 indicating how similar the search term and the title at the corresponding location in the tfidf matrix we created previously. A value closer to 1 means they are more similar.\n",
    "def search(title: str) -> np.ndarray:\n",
    "    title = clean_title(title)\n",
    "    query_vec = vectorizer.transform([title])\n",
    "    similarity = cosine_similarity(query_vec, tfidf).flatten()\n",
    "    return similarity\n",
    "\n",
    "# We remember that movies.head() showed a few titles with '1995' string in it, so we should expect when we call search(\"1995\") that we get values > 0 for the first few elements of the ndarray\n",
    "search(\"1995\")\n"
   ]
  },
  {
   "cell_type": "code",
   "execution_count": 6,
   "id": "bdf106c3",
   "metadata": {},
   "outputs": [
    {
     "data": {
      "application/vnd.microsoft.datawrangler.viewer.v0+json": {
       "columns": [
        {
         "name": "index",
         "rawType": "int64",
         "type": "integer"
        },
        {
         "name": "movieId",
         "rawType": "int64",
         "type": "integer"
        },
        {
         "name": "title",
         "rawType": "object",
         "type": "string"
        },
        {
         "name": "genres",
         "rawType": "object",
         "type": "string"
        },
        {
         "name": "clean_title",
         "rawType": "object",
         "type": "string"
        }
       ],
       "ref": "93cbcdd6-b5b1-4a77-bd8c-2430a95c31a3",
       "rows": [
        [
         "20497",
         "106022",
         "Toy Story of Terror (2013)",
         "Animation|Children|Comedy",
         "Toy Story of Terror 2013"
        ],
        [
         "14813",
         "78499",
         "Toy Story 3 (2010)",
         "Adventure|Animation|Children|Comedy|Fantasy|IMAX",
         "Toy Story 3 2010"
        ],
        [
         "59767",
         "201588",
         "Toy Story 4 (2019)",
         "Adventure|Animation|Children|Comedy",
         "Toy Story 4 2019"
        ],
        [
         "3021",
         "3114",
         "Toy Story 2 (1999)",
         "Adventure|Animation|Children|Comedy|Fantasy",
         "Toy Story 2 1999"
        ],
        [
         "0",
         "1",
         "Toy Story (1995)",
         "Adventure|Animation|Children|Comedy|Fantasy",
         "Toy Story 1995"
        ]
       ],
       "shape": {
        "columns": 4,
        "rows": 5
       }
      },
      "text/html": [
       "<div>\n",
       "<style scoped>\n",
       "    .dataframe tbody tr th:only-of-type {\n",
       "        vertical-align: middle;\n",
       "    }\n",
       "\n",
       "    .dataframe tbody tr th {\n",
       "        vertical-align: top;\n",
       "    }\n",
       "\n",
       "    .dataframe thead th {\n",
       "        text-align: right;\n",
       "    }\n",
       "</style>\n",
       "<table border=\"1\" class=\"dataframe\">\n",
       "  <thead>\n",
       "    <tr style=\"text-align: right;\">\n",
       "      <th></th>\n",
       "      <th>movieId</th>\n",
       "      <th>title</th>\n",
       "      <th>genres</th>\n",
       "      <th>clean_title</th>\n",
       "    </tr>\n",
       "  </thead>\n",
       "  <tbody>\n",
       "    <tr>\n",
       "      <th>20497</th>\n",
       "      <td>106022</td>\n",
       "      <td>Toy Story of Terror (2013)</td>\n",
       "      <td>Animation|Children|Comedy</td>\n",
       "      <td>Toy Story of Terror 2013</td>\n",
       "    </tr>\n",
       "    <tr>\n",
       "      <th>14813</th>\n",
       "      <td>78499</td>\n",
       "      <td>Toy Story 3 (2010)</td>\n",
       "      <td>Adventure|Animation|Children|Comedy|Fantasy|IMAX</td>\n",
       "      <td>Toy Story 3 2010</td>\n",
       "    </tr>\n",
       "    <tr>\n",
       "      <th>59767</th>\n",
       "      <td>201588</td>\n",
       "      <td>Toy Story 4 (2019)</td>\n",
       "      <td>Adventure|Animation|Children|Comedy</td>\n",
       "      <td>Toy Story 4 2019</td>\n",
       "    </tr>\n",
       "    <tr>\n",
       "      <th>3021</th>\n",
       "      <td>3114</td>\n",
       "      <td>Toy Story 2 (1999)</td>\n",
       "      <td>Adventure|Animation|Children|Comedy|Fantasy</td>\n",
       "      <td>Toy Story 2 1999</td>\n",
       "    </tr>\n",
       "    <tr>\n",
       "      <th>0</th>\n",
       "      <td>1</td>\n",
       "      <td>Toy Story (1995)</td>\n",
       "      <td>Adventure|Animation|Children|Comedy|Fantasy</td>\n",
       "      <td>Toy Story 1995</td>\n",
       "    </tr>\n",
       "  </tbody>\n",
       "</table>\n",
       "</div>"
      ],
      "text/plain": [
       "       movieId                       title  \\\n",
       "20497   106022  Toy Story of Terror (2013)   \n",
       "14813    78499          Toy Story 3 (2010)   \n",
       "59767   201588          Toy Story 4 (2019)   \n",
       "3021      3114          Toy Story 2 (1999)   \n",
       "0            1            Toy Story (1995)   \n",
       "\n",
       "                                                 genres  \\\n",
       "20497                         Animation|Children|Comedy   \n",
       "14813  Adventure|Animation|Children|Comedy|Fantasy|IMAX   \n",
       "59767               Adventure|Animation|Children|Comedy   \n",
       "3021        Adventure|Animation|Children|Comedy|Fantasy   \n",
       "0           Adventure|Animation|Children|Comedy|Fantasy   \n",
       "\n",
       "                    clean_title  \n",
       "20497  Toy Story of Terror 2013  \n",
       "14813          Toy Story 3 2010  \n",
       "59767          Toy Story 4 2019  \n",
       "3021           Toy Story 2 1999  \n",
       "0                Toy Story 1995  "
      ]
     },
     "execution_count": 6,
     "metadata": {},
     "output_type": "execute_result"
    }
   ],
   "source": [
    "# return the top 5 highest matching movies based on the search term\n",
    "similarity = search(\"Toy Story 1995\")\n",
    "indices = np.argpartition(similarity, -5)[-5:]\n",
    "top_5_movies = movies.iloc[indices]\n",
    "top_5_movies"
   ]
  },
  {
   "cell_type": "markdown",
   "id": "5d79298d",
   "metadata": {},
   "source": [
    "Ok, I think I want to create another search function that handles the fetching of rows from the `movies` dataframe. The new function `nsearch(title, n)` will accept a second parameter, `n`, which corresponds to the top N matches for the given title. \n"
   ]
  },
  {
   "cell_type": "code",
   "execution_count": 7,
   "id": "84db9fb8",
   "metadata": {},
   "outputs": [
    {
     "data": {
      "application/vnd.microsoft.datawrangler.viewer.v0+json": {
       "columns": [
        {
         "name": "index",
         "rawType": "int64",
         "type": "integer"
        },
        {
         "name": "movieId",
         "rawType": "int64",
         "type": "integer"
        },
        {
         "name": "title",
         "rawType": "object",
         "type": "string"
        },
        {
         "name": "genres",
         "rawType": "object",
         "type": "string"
        },
        {
         "name": "clean_title",
         "rawType": "object",
         "type": "string"
        }
       ],
       "ref": "9856fb8e-0b6e-483e-8e78-f24bf5d0704a",
       "rows": [
        [
         "0",
         "1",
         "Toy Story (1995)",
         "Adventure|Animation|Children|Comedy|Fantasy",
         "Toy Story 1995"
        ]
       ],
       "shape": {
        "columns": 4,
        "rows": 1
       }
      },
      "text/html": [
       "<div>\n",
       "<style scoped>\n",
       "    .dataframe tbody tr th:only-of-type {\n",
       "        vertical-align: middle;\n",
       "    }\n",
       "\n",
       "    .dataframe tbody tr th {\n",
       "        vertical-align: top;\n",
       "    }\n",
       "\n",
       "    .dataframe thead th {\n",
       "        text-align: right;\n",
       "    }\n",
       "</style>\n",
       "<table border=\"1\" class=\"dataframe\">\n",
       "  <thead>\n",
       "    <tr style=\"text-align: right;\">\n",
       "      <th></th>\n",
       "      <th>movieId</th>\n",
       "      <th>title</th>\n",
       "      <th>genres</th>\n",
       "      <th>clean_title</th>\n",
       "    </tr>\n",
       "  </thead>\n",
       "  <tbody>\n",
       "    <tr>\n",
       "      <th>0</th>\n",
       "      <td>1</td>\n",
       "      <td>Toy Story (1995)</td>\n",
       "      <td>Adventure|Animation|Children|Comedy|Fantasy</td>\n",
       "      <td>Toy Story 1995</td>\n",
       "    </tr>\n",
       "  </tbody>\n",
       "</table>\n",
       "</div>"
      ],
      "text/plain": [
       "   movieId             title                                       genres  \\\n",
       "0        1  Toy Story (1995)  Adventure|Animation|Children|Comedy|Fantasy   \n",
       "\n",
       "      clean_title  \n",
       "0  Toy Story 1995  "
      ]
     },
     "execution_count": 7,
     "metadata": {},
     "output_type": "execute_result"
    }
   ],
   "source": [
    "def nsearch(title: str, n: int = 1) -> pd.DataFrame:\n",
    "    title = clean_title(title)\n",
    "    query_vec = vectorizer.transform([title])\n",
    "    similarity = cosine_similarity(query_vec, tfidf).flatten()\n",
    "    indices = np.argpartition(similarity, -n)[-n:]\n",
    "    results = movies.iloc[indices].sort_index()\n",
    "    return results\n",
    "\n",
    "# lets see if it works as expected\n",
    "top_matching_movie = nsearch(\"Toy Story 1995\")\n",
    "top_matching_movie # should be the row containing 'Toy Story 1995'"
   ]
  },
  {
   "cell_type": "code",
   "execution_count": 8,
   "id": "f9134d64",
   "metadata": {},
   "outputs": [
    {
     "data": {
      "application/vnd.microsoft.datawrangler.viewer.v0+json": {
       "columns": [
        {
         "name": "index",
         "rawType": "int64",
         "type": "integer"
        },
        {
         "name": "movieId",
         "rawType": "int64",
         "type": "integer"
        },
        {
         "name": "title",
         "rawType": "object",
         "type": "string"
        },
        {
         "name": "genres",
         "rawType": "object",
         "type": "string"
        },
        {
         "name": "clean_title",
         "rawType": "object",
         "type": "string"
        }
       ],
       "ref": "affdae38-7d7c-4a2a-948b-786a046f61de",
       "rows": [
        [
         "0",
         "1",
         "Toy Story (1995)",
         "Adventure|Animation|Children|Comedy|Fantasy",
         "Toy Story 1995"
        ],
        [
         "3021",
         "3114",
         "Toy Story 2 (1999)",
         "Adventure|Animation|Children|Comedy|Fantasy",
         "Toy Story 2 1999"
        ],
        [
         "14813",
         "78499",
         "Toy Story 3 (2010)",
         "Adventure|Animation|Children|Comedy|Fantasy|IMAX",
         "Toy Story 3 2010"
        ],
        [
         "20497",
         "106022",
         "Toy Story of Terror (2013)",
         "Animation|Children|Comedy",
         "Toy Story of Terror 2013"
        ],
        [
         "59767",
         "201588",
         "Toy Story 4 (2019)",
         "Adventure|Animation|Children|Comedy",
         "Toy Story 4 2019"
        ]
       ],
       "shape": {
        "columns": 4,
        "rows": 5
       }
      },
      "text/html": [
       "<div>\n",
       "<style scoped>\n",
       "    .dataframe tbody tr th:only-of-type {\n",
       "        vertical-align: middle;\n",
       "    }\n",
       "\n",
       "    .dataframe tbody tr th {\n",
       "        vertical-align: top;\n",
       "    }\n",
       "\n",
       "    .dataframe thead th {\n",
       "        text-align: right;\n",
       "    }\n",
       "</style>\n",
       "<table border=\"1\" class=\"dataframe\">\n",
       "  <thead>\n",
       "    <tr style=\"text-align: right;\">\n",
       "      <th></th>\n",
       "      <th>movieId</th>\n",
       "      <th>title</th>\n",
       "      <th>genres</th>\n",
       "      <th>clean_title</th>\n",
       "    </tr>\n",
       "  </thead>\n",
       "  <tbody>\n",
       "    <tr>\n",
       "      <th>0</th>\n",
       "      <td>1</td>\n",
       "      <td>Toy Story (1995)</td>\n",
       "      <td>Adventure|Animation|Children|Comedy|Fantasy</td>\n",
       "      <td>Toy Story 1995</td>\n",
       "    </tr>\n",
       "    <tr>\n",
       "      <th>3021</th>\n",
       "      <td>3114</td>\n",
       "      <td>Toy Story 2 (1999)</td>\n",
       "      <td>Adventure|Animation|Children|Comedy|Fantasy</td>\n",
       "      <td>Toy Story 2 1999</td>\n",
       "    </tr>\n",
       "    <tr>\n",
       "      <th>14813</th>\n",
       "      <td>78499</td>\n",
       "      <td>Toy Story 3 (2010)</td>\n",
       "      <td>Adventure|Animation|Children|Comedy|Fantasy|IMAX</td>\n",
       "      <td>Toy Story 3 2010</td>\n",
       "    </tr>\n",
       "    <tr>\n",
       "      <th>20497</th>\n",
       "      <td>106022</td>\n",
       "      <td>Toy Story of Terror (2013)</td>\n",
       "      <td>Animation|Children|Comedy</td>\n",
       "      <td>Toy Story of Terror 2013</td>\n",
       "    </tr>\n",
       "    <tr>\n",
       "      <th>59767</th>\n",
       "      <td>201588</td>\n",
       "      <td>Toy Story 4 (2019)</td>\n",
       "      <td>Adventure|Animation|Children|Comedy</td>\n",
       "      <td>Toy Story 4 2019</td>\n",
       "    </tr>\n",
       "  </tbody>\n",
       "</table>\n",
       "</div>"
      ],
      "text/plain": [
       "       movieId                       title  \\\n",
       "0            1            Toy Story (1995)   \n",
       "3021      3114          Toy Story 2 (1999)   \n",
       "14813    78499          Toy Story 3 (2010)   \n",
       "20497   106022  Toy Story of Terror (2013)   \n",
       "59767   201588          Toy Story 4 (2019)   \n",
       "\n",
       "                                                 genres  \\\n",
       "0           Adventure|Animation|Children|Comedy|Fantasy   \n",
       "3021        Adventure|Animation|Children|Comedy|Fantasy   \n",
       "14813  Adventure|Animation|Children|Comedy|Fantasy|IMAX   \n",
       "20497                         Animation|Children|Comedy   \n",
       "59767               Adventure|Animation|Children|Comedy   \n",
       "\n",
       "                    clean_title  \n",
       "0                Toy Story 1995  \n",
       "3021           Toy Story 2 1999  \n",
       "14813          Toy Story 3 2010  \n",
       "20497  Toy Story of Terror 2013  \n",
       "59767          Toy Story 4 2019  "
      ]
     },
     "execution_count": 8,
     "metadata": {},
     "output_type": "execute_result"
    }
   ],
   "source": [
    "top_5_matching_movies = nsearch(\"Toy Story 1995\", n=5)\n",
    "top_5_matching_movies"
   ]
  },
  {
   "cell_type": "markdown",
   "id": "d8744602",
   "metadata": {},
   "source": [
    "To make it easier to interact with the search function, I will use the `ipywidgets` library to create a search box that conveniently displays results."
   ]
  },
  {
   "cell_type": "code",
   "execution_count": 9,
   "id": "c540b807",
   "metadata": {},
   "outputs": [
    {
     "data": {
      "application/vnd.jupyter.widget-view+json": {
       "model_id": "ac372e8da25d49e9814dca3c83b0d053",
       "version_major": 2,
       "version_minor": 0
      },
      "text/plain": [
       "VBox(children=(HBox(children=(Text(value='', description='Movie Title:', placeholder='Search for a movie...'),…"
      ]
     },
     "metadata": {},
     "output_type": "display_data"
    }
   ],
   "source": [
    "import ipywidgets as widgets\n",
    "from IPython.display import display\n",
    "\n",
    "movie_input = widgets.Text(\n",
    "    value=\"\",\n",
    "    description=\"Movie Title:\",\n",
    "    placeholder=\"Search for a movie...\",\n",
    "    disabled=False\n",
    ")\n",
    "\n",
    "n_input = widgets.BoundedIntText(\n",
    "    value=5,          \n",
    "    min=1, max=50,    \n",
    "    step=1,\n",
    "    description=\"Results:\"\n",
    ")\n",
    "\n",
    "movie_list = widgets.Output()\n",
    "\n",
    "# handler that reacts to either input changing\n",
    "def run_search(change=None):\n",
    "    with movie_list:\n",
    "        movie_list.clear_output(wait=True)\n",
    "        title = movie_input.value.strip()\n",
    "        n = n_input.value or 5 \n",
    "        if len(title) >= 3:\n",
    "            display(nsearch(title, n=int(n)))\n",
    "\n",
    "movie_input.observe(run_search, names=\"value\")\n",
    "n_input.observe(run_search, names=\"value\")\n",
    "\n",
    "display(widgets.VBox([widgets.HBox([movie_input, n_input]), movie_list]))"
   ]
  },
  {
   "cell_type": "markdown",
   "id": "a0e71494",
   "metadata": {},
   "source": [
    "Ok, now I want to start working on a feature that finds all users who also liked the movie that we searched for. I have a `ratings.csv` file that can help with this, so I will start by reading it in and looking at some of the columns."
   ]
  },
  {
   "cell_type": "code",
   "execution_count": 10,
   "id": "21eb1bcb",
   "metadata": {},
   "outputs": [
    {
     "data": {
      "application/vnd.microsoft.datawrangler.viewer.v0+json": {
       "columns": [
        {
         "name": "index",
         "rawType": "int64",
         "type": "integer"
        },
        {
         "name": "userId",
         "rawType": "int64",
         "type": "integer"
        },
        {
         "name": "movieId",
         "rawType": "int64",
         "type": "integer"
        },
        {
         "name": "rating",
         "rawType": "float64",
         "type": "float"
        },
        {
         "name": "timestamp",
         "rawType": "int64",
         "type": "integer"
        }
       ],
       "ref": "1b89fa0c-2b77-461c-9b53-36678c244613",
       "rows": [
        [
         "0",
         "1",
         "296",
         "5.0",
         "1147880044"
        ],
        [
         "1",
         "1",
         "306",
         "3.5",
         "1147868817"
        ],
        [
         "2",
         "1",
         "307",
         "5.0",
         "1147868828"
        ],
        [
         "3",
         "1",
         "665",
         "5.0",
         "1147878820"
        ],
        [
         "4",
         "1",
         "899",
         "3.5",
         "1147868510"
        ],
        [
         "5",
         "1",
         "1088",
         "4.0",
         "1147868495"
        ],
        [
         "6",
         "1",
         "1175",
         "3.5",
         "1147868826"
        ],
        [
         "7",
         "1",
         "1217",
         "3.5",
         "1147878326"
        ],
        [
         "8",
         "1",
         "1237",
         "5.0",
         "1147868839"
        ],
        [
         "9",
         "1",
         "1250",
         "4.0",
         "1147868414"
        ]
       ],
       "shape": {
        "columns": 4,
        "rows": 10
       }
      },
      "text/html": [
       "<div>\n",
       "<style scoped>\n",
       "    .dataframe tbody tr th:only-of-type {\n",
       "        vertical-align: middle;\n",
       "    }\n",
       "\n",
       "    .dataframe tbody tr th {\n",
       "        vertical-align: top;\n",
       "    }\n",
       "\n",
       "    .dataframe thead th {\n",
       "        text-align: right;\n",
       "    }\n",
       "</style>\n",
       "<table border=\"1\" class=\"dataframe\">\n",
       "  <thead>\n",
       "    <tr style=\"text-align: right;\">\n",
       "      <th></th>\n",
       "      <th>userId</th>\n",
       "      <th>movieId</th>\n",
       "      <th>rating</th>\n",
       "      <th>timestamp</th>\n",
       "    </tr>\n",
       "  </thead>\n",
       "  <tbody>\n",
       "    <tr>\n",
       "      <th>0</th>\n",
       "      <td>1</td>\n",
       "      <td>296</td>\n",
       "      <td>5.0</td>\n",
       "      <td>1147880044</td>\n",
       "    </tr>\n",
       "    <tr>\n",
       "      <th>1</th>\n",
       "      <td>1</td>\n",
       "      <td>306</td>\n",
       "      <td>3.5</td>\n",
       "      <td>1147868817</td>\n",
       "    </tr>\n",
       "    <tr>\n",
       "      <th>2</th>\n",
       "      <td>1</td>\n",
       "      <td>307</td>\n",
       "      <td>5.0</td>\n",
       "      <td>1147868828</td>\n",
       "    </tr>\n",
       "    <tr>\n",
       "      <th>3</th>\n",
       "      <td>1</td>\n",
       "      <td>665</td>\n",
       "      <td>5.0</td>\n",
       "      <td>1147878820</td>\n",
       "    </tr>\n",
       "    <tr>\n",
       "      <th>4</th>\n",
       "      <td>1</td>\n",
       "      <td>899</td>\n",
       "      <td>3.5</td>\n",
       "      <td>1147868510</td>\n",
       "    </tr>\n",
       "    <tr>\n",
       "      <th>5</th>\n",
       "      <td>1</td>\n",
       "      <td>1088</td>\n",
       "      <td>4.0</td>\n",
       "      <td>1147868495</td>\n",
       "    </tr>\n",
       "    <tr>\n",
       "      <th>6</th>\n",
       "      <td>1</td>\n",
       "      <td>1175</td>\n",
       "      <td>3.5</td>\n",
       "      <td>1147868826</td>\n",
       "    </tr>\n",
       "    <tr>\n",
       "      <th>7</th>\n",
       "      <td>1</td>\n",
       "      <td>1217</td>\n",
       "      <td>3.5</td>\n",
       "      <td>1147878326</td>\n",
       "    </tr>\n",
       "    <tr>\n",
       "      <th>8</th>\n",
       "      <td>1</td>\n",
       "      <td>1237</td>\n",
       "      <td>5.0</td>\n",
       "      <td>1147868839</td>\n",
       "    </tr>\n",
       "    <tr>\n",
       "      <th>9</th>\n",
       "      <td>1</td>\n",
       "      <td>1250</td>\n",
       "      <td>4.0</td>\n",
       "      <td>1147868414</td>\n",
       "    </tr>\n",
       "  </tbody>\n",
       "</table>\n",
       "</div>"
      ],
      "text/plain": [
       "   userId  movieId  rating   timestamp\n",
       "0       1      296     5.0  1147880044\n",
       "1       1      306     3.5  1147868817\n",
       "2       1      307     5.0  1147868828\n",
       "3       1      665     5.0  1147878820\n",
       "4       1      899     3.5  1147868510\n",
       "5       1     1088     4.0  1147868495\n",
       "6       1     1175     3.5  1147868826\n",
       "7       1     1217     3.5  1147878326\n",
       "8       1     1237     5.0  1147868839\n",
       "9       1     1250     4.0  1147868414"
      ]
     },
     "execution_count": 10,
     "metadata": {},
     "output_type": "execute_result"
    }
   ],
   "source": [
    "ratings = pd.read_csv('data/ratings.csv')\n",
    "ratings.head(10)"
   ]
  },
  {
   "cell_type": "markdown",
   "id": "0a7cd399",
   "metadata": {},
   "source": [
    "Let's say we want to find all users who also liked the movie with `movie_id` = 1. We can just filter out the ratings dataframe and collect all unique user ids. In this case, I can just arbirtrarily say that a user liked a movie if they gave it a rating greater than or equal to 4."
   ]
  },
  {
   "cell_type": "code",
   "execution_count": 11,
   "id": "6b188b2c",
   "metadata": {},
   "outputs": [
    {
     "data": {
      "text/plain": [
       "array([     3,      5,      8, ..., 162530, 162533, 162534],\n",
       "      shape=(37709,))"
      ]
     },
     "execution_count": 11,
     "metadata": {},
     "output_type": "execute_result"
    }
   ],
   "source": [
    "movie_id = 1\n",
    "similar_users = ratings[(ratings[\"movieId\"] == movie_id) & (ratings['rating'] >= 4)][\"userId\"].unique()\n",
    "similar_users"
   ]
  },
  {
   "cell_type": "code",
   "execution_count": 12,
   "id": "c624cc09",
   "metadata": {},
   "outputs": [
    {
     "data": {
      "application/vnd.microsoft.datawrangler.viewer.v0+json": {
       "columns": [
        {
         "name": "index",
         "rawType": "int64",
         "type": "integer"
        },
        {
         "name": "movieId",
         "rawType": "int64",
         "type": "integer"
        }
       ],
       "ref": "d944f8ef-3189-458a-8317-8eb5fded32c7",
       "rows": [
        [
         "254",
         "1"
        ],
        [
         "255",
         "29"
        ],
        [
         "256",
         "32"
        ],
        [
         "257",
         "50"
        ],
        [
         "258",
         "111"
        ],
        [
         "259",
         "172"
        ],
        [
         "261",
         "214"
        ],
        [
         "262",
         "260"
        ],
        [
         "263",
         "293"
        ],
        [
         "264",
         "296"
        ],
        [
         "265",
         "318"
        ],
        [
         "266",
         "356"
        ],
        [
         "269",
         "527"
        ],
        [
         "270",
         "541"
        ],
        [
         "271",
         "589"
        ],
        [
         "272",
         "593"
        ],
        [
         "273",
         "741"
        ],
        [
         "274",
         "745"
        ],
        [
         "275",
         "778"
        ],
        [
         "277",
         "858"
        ],
        [
         "278",
         "912"
        ],
        [
         "279",
         "913"
        ],
        [
         "280",
         "924"
        ],
        [
         "281",
         "1089"
        ],
        [
         "283",
         "1148"
        ],
        [
         "284",
         "1196"
        ],
        [
         "286",
         "1200"
        ],
        [
         "287",
         "1201"
        ],
        [
         "288",
         "1206"
        ],
        [
         "289",
         "1208"
        ],
        [
         "290",
         "1210"
        ],
        [
         "291",
         "1213"
        ],
        [
         "292",
         "1214"
        ],
        [
         "293",
         "1217"
        ],
        [
         "294",
         "1221"
        ],
        [
         "295",
         "1222"
        ],
        [
         "296",
         "1240"
        ],
        [
         "297",
         "1252"
        ],
        [
         "299",
         "1274"
        ],
        [
         "301",
         "1356"
        ],
        [
         "302",
         "1527"
        ],
        [
         "303",
         "1584"
        ],
        [
         "304",
         "1653"
        ],
        [
         "306",
         "1682"
        ],
        [
         "307",
         "1732"
        ],
        [
         "308",
         "1748"
        ],
        [
         "310",
         "1909"
        ],
        [
         "311",
         "1960"
        ],
        [
         "312",
         "2019"
        ],
        [
         "313",
         "2021"
        ]
       ],
       "shape": {
        "columns": 1,
        "rows": 5101989
       }
      },
      "text/plain": [
       "254              1\n",
       "255             29\n",
       "256             32\n",
       "257             50\n",
       "258            111\n",
       "             ...  \n",
       "24999332    166643\n",
       "24999342    171763\n",
       "24999348    177593\n",
       "24999351    177765\n",
       "24999378    198609\n",
       "Name: movieId, Length: 5101989, dtype: int64"
      ]
     },
     "execution_count": 12,
     "metadata": {},
     "output_type": "execute_result"
    }
   ],
   "source": [
    "# now that we found all the users who also liked the movie with id = 1, it becomes easier to find the other movies they liked.\n",
    "similar_user_recs = ratings[(ratings['userId'].isin(similar_users)) & (ratings['rating'] >= 4)]['movieId']\n",
    "similar_user_recs"
   ]
  },
  {
   "cell_type": "code",
   "execution_count": 13,
   "id": "b1039955",
   "metadata": {},
   "outputs": [
    {
     "data": {
      "application/vnd.microsoft.datawrangler.viewer.v0+json": {
       "columns": [
        {
         "name": "movieId",
         "rawType": "int64",
         "type": "integer"
        },
        {
         "name": "count",
         "rawType": "int64",
         "type": "integer"
        }
       ],
       "ref": "07005254-c628-470d-b0ce-4131afc4f6d3",
       "rows": [
        [
         "1",
         "37709"
        ],
        [
         "318",
         "20725"
        ],
        [
         "260",
         "20043"
        ],
        [
         "356",
         "19504"
        ],
        [
         "296",
         "18694"
        ],
        [
         "593",
         "17667"
        ],
        [
         "2571",
         "17640"
        ],
        [
         "1196",
         "16831"
        ],
        [
         "1198",
         "16160"
        ],
        [
         "1210",
         "15981"
        ],
        [
         "1270",
         "15373"
        ],
        [
         "527",
         "15056"
        ],
        [
         "50",
         "14529"
        ],
        [
         "589",
         "14275"
        ],
        [
         "480",
         "14126"
        ],
        [
         "110",
         "13955"
        ],
        [
         "4993",
         "13773"
        ],
        [
         "858",
         "13420"
        ],
        [
         "608",
         "13297"
        ],
        [
         "2959",
         "13267"
        ],
        [
         "364",
         "13105"
        ],
        [
         "47",
         "13034"
        ],
        [
         "2762",
         "12589"
        ],
        [
         "457",
         "12551"
        ],
        [
         "5952",
         "12548"
        ],
        [
         "2028",
         "12520"
        ],
        [
         "588",
         "12430"
        ],
        [
         "2858",
         "12411"
        ],
        [
         "3114",
         "12403"
        ],
        [
         "150",
         "12340"
        ],
        [
         "1197",
         "12266"
        ],
        [
         "7153",
         "12239"
        ],
        [
         "4306",
         "11820"
        ],
        [
         "32",
         "11788"
        ],
        [
         "1136",
         "11694"
        ],
        [
         "4886",
         "11664"
        ],
        [
         "1291",
         "11599"
        ],
        [
         "1265",
         "11494"
        ],
        [
         "6377",
         "11090"
        ],
        [
         "3578",
         "10675"
        ],
        [
         "1240",
         "10623"
        ],
        [
         "1036",
         "10544"
        ],
        [
         "1704",
         "10523"
        ],
        [
         "4226",
         "10279"
        ],
        [
         "1214",
         "10111"
        ],
        [
         "8961",
         "9859"
        ],
        [
         "595",
         "9700"
        ],
        [
         "1580",
         "9697"
        ],
        [
         "1097",
         "9691"
        ],
        [
         "541",
         "9659"
        ]
       ],
       "shape": {
        "columns": 1,
        "rows": 30595
       }
      },
      "text/plain": [
       "movieId\n",
       "1         37709\n",
       "318       20725\n",
       "260       20043\n",
       "356       19504\n",
       "296       18694\n",
       "          ...  \n",
       "153913        1\n",
       "153917        1\n",
       "6501          1\n",
       "41704         1\n",
       "198609        1\n",
       "Name: count, Length: 30595, dtype: int64"
      ]
     },
     "execution_count": 13,
     "metadata": {},
     "output_type": "execute_result"
    }
   ],
   "source": [
    "similar_user_recs.value_counts()"
   ]
  },
  {
   "cell_type": "markdown",
   "id": "18e2f5a4",
   "metadata": {},
   "source": [
    "The value count is not useful on its own, as recommendations should probably be based on some kind of threshold (). So, in this case, I will filter it down further to find only the movies that more than 10% of similar users liked."
   ]
  },
  {
   "cell_type": "code",
   "execution_count": 14,
   "id": "9b90842e",
   "metadata": {},
   "outputs": [
    {
     "data": {
      "application/vnd.microsoft.datawrangler.viewer.v0+json": {
       "columns": [
        {
         "name": "movieId",
         "rawType": "int64",
         "type": "integer"
        },
        {
         "name": "count",
         "rawType": "float64",
         "type": "float"
        }
       ],
       "ref": "1cebfe27-d510-4e9d-b427-b94bf3104999",
       "rows": [
        [
         "1",
         "1.0"
        ],
        [
         "318",
         "0.5496035429207882"
        ],
        [
         "260",
         "0.5315176748256384"
        ],
        [
         "356",
         "0.5172240048794717"
        ],
        [
         "296",
         "0.49574372165795966"
        ],
        [
         "593",
         "0.4685088440425363"
        ],
        [
         "2571",
         "0.4677928346018192"
        ],
        [
         "1196",
         "0.4463390702484818"
        ],
        [
         "1198",
         "0.4285449097032539"
        ],
        [
         "1210",
         "0.4237980322999814"
        ],
        [
         "1270",
         "0.40767456044976"
        ],
        [
         "527",
         "0.3992680792383781"
        ],
        [
         "50",
         "0.38529263571030786"
        ],
        [
         "589",
         "0.37855684319393246"
        ],
        [
         "480",
         "0.37460553183590123"
        ],
        [
         "110",
         "0.37007080537802645"
        ],
        [
         "4993",
         "0.3652443713702299"
        ],
        [
         "858",
         "0.3558832109045586"
        ],
        [
         "608",
         "0.35262139011906973"
        ],
        [
         "2959",
         "0.3518258240738285"
        ],
        [
         "364",
         "0.3475297674295261"
        ],
        [
         "47",
         "0.345646927789122"
        ],
        [
         "2762",
         "0.33384603145137765"
        ],
        [
         "457",
         "0.3328383144607388"
        ],
        [
         "5952",
         "0.33275875785621467"
        ],
        [
         "2028",
         "0.3320162295473229"
        ],
        [
         "588",
         "0.32962953141159934"
        ],
        [
         "2858",
         "0.3291256729162799"
        ],
        [
         "3114",
         "0.3289135219708823"
        ],
        [
         "150",
         "0.3272428332758758"
        ],
        [
         "1197",
         "0.3252804370309475"
        ],
        [
         "7153",
         "0.32456442759023046"
        ],
        [
         "4306",
         "0.3134530218250285"
        ],
        [
         "32",
         "0.3126044180434379"
        ],
        [
         "1136",
         "0.3101116444350155"
        ],
        [
         "4886",
         "0.3093160783897743"
        ],
        [
         "1291",
         "0.30759235195841844"
        ],
        [
         "1265",
         "0.30480787080007427"
        ],
        [
         "6377",
         "0.2940942480574929"
        ],
        [
         "3578",
         "0.2830889177649898"
        ],
        [
         "1240",
         "0.28170993661990507"
        ],
        [
         "1036",
         "0.27961494603410325"
        ],
        [
         "1704",
         "0.2790580498024344"
        ],
        [
         "4226",
         "0.2725874459678061"
        ],
        [
         "1214",
         "0.26813227611445545"
        ],
        [
         "8961",
         "0.26144952133442945"
        ],
        [
         "595",
         "0.25723302129465114"
        ],
        [
         "1580",
         "0.257153464690127"
        ],
        [
         "1097",
         "0.2569943514810788"
        ],
        [
         "541",
         "0.25614574769948817"
        ]
       ],
       "shape": {
        "columns": 1,
        "rows": 273
       }
      },
      "text/plain": [
       "movieId\n",
       "1       1.000000\n",
       "318     0.549604\n",
       "260     0.531518\n",
       "356     0.517224\n",
       "296     0.495744\n",
       "          ...   \n",
       "235     0.101249\n",
       "1242    0.100931\n",
       "1907    0.100772\n",
       "3527    0.100613\n",
       "2761    0.100135\n",
       "Name: count, Length: 273, dtype: float64"
      ]
     },
     "execution_count": 14,
     "metadata": {},
     "output_type": "execute_result"
    }
   ],
   "source": [
    "similar_user_recs = similar_user_recs.value_counts() / len(similar_users)\n",
    "similar_user_recs = similar_user_recs[similar_user_recs > .1]\n",
    "similar_user_recs"
   ]
  },
  {
   "cell_type": "markdown",
   "id": "61a8c684",
   "metadata": {},
   "source": [
    "With that done, I will now move on to find movies that are specific to the niche being searched for. For example, if someone likes the `Avengers`, then the recommendation system should suggest movies that other users like that are similar to the `Avengers`, rather than all of the movies they like because otherwise we end up recommending movies that are well-liked, but completely unrelated to the search term."
   ]
  },
  {
   "cell_type": "code",
   "execution_count": 15,
   "id": "449e4624",
   "metadata": {},
   "outputs": [
    {
     "data": {
      "application/vnd.microsoft.datawrangler.viewer.v0+json": {
       "columns": [
        {
         "name": "index",
         "rawType": "int64",
         "type": "integer"
        },
        {
         "name": "userId",
         "rawType": "int64",
         "type": "integer"
        },
        {
         "name": "movieId",
         "rawType": "int64",
         "type": "integer"
        },
        {
         "name": "rating",
         "rawType": "float64",
         "type": "float"
        },
        {
         "name": "timestamp",
         "rawType": "int64",
         "type": "integer"
        }
       ],
       "ref": "67d2323e-6433-4eea-978c-cd48dd8005ad",
       "rows": [
        [
         "0",
         "1",
         "296",
         "5.0",
         "1147880044"
        ],
        [
         "19",
         "1",
         "2692",
         "5.0",
         "1147869100"
        ],
        [
         "23",
         "1",
         "3949",
         "5.0",
         "1147868678"
        ],
        [
         "29",
         "1",
         "4973",
         "4.5",
         "1147869080"
        ],
        [
         "37",
         "1",
         "6016",
         "5.0",
         "1147869090"
        ],
        [
         "41",
         "1",
         "6711",
         "5.0",
         "1147868622"
        ],
        [
         "48",
         "1",
         "7361",
         "5.0",
         "1147880055"
        ],
        [
         "72",
         "2",
         "110",
         "5.0",
         "1141416589"
        ],
        [
         "76",
         "2",
         "260",
         "5.0",
         "1141417172"
        ],
        [
         "79",
         "2",
         "318",
         "5.0",
         "1141417181"
        ],
        [
         "81",
         "2",
         "349",
         "4.5",
         "1141417045"
        ],
        [
         "82",
         "2",
         "356",
         "4.5",
         "1141416637"
        ],
        [
         "83",
         "2",
         "364",
         "4.5",
         "1141417077"
        ],
        [
         "85",
         "2",
         "457",
         "5.0",
         "1141416618"
        ],
        [
         "89",
         "2",
         "527",
         "5.0",
         "1141415816"
        ],
        [
         "95",
         "2",
         "733",
         "4.5",
         "1141415905"
        ],
        [
         "98",
         "2",
         "953",
         "4.5",
         "1141417487"
        ],
        [
         "101",
         "2",
         "1136",
         "5.0",
         "1141417950"
        ],
        [
         "102",
         "2",
         "1196",
         "5.0",
         "1141417198"
        ],
        [
         "103",
         "2",
         "1197",
         "5.0",
         "1141415874"
        ],
        [
         "106",
         "2",
         "1210",
         "5.0",
         "1141416665"
        ],
        [
         "114",
         "2",
         "1291",
         "5.0",
         "1141416603"
        ],
        [
         "118",
         "2",
         "1356",
         "5.0",
         "1141417272"
        ],
        [
         "119",
         "2",
         "1374",
         "4.5",
         "1141415576"
        ],
        [
         "127",
         "2",
         "1580",
         "4.5",
         "1141417059"
        ],
        [
         "128",
         "2",
         "1584",
         "5.0",
         "1141416806"
        ],
        [
         "130",
         "2",
         "1610",
         "5.0",
         "1141416601"
        ],
        [
         "131",
         "2",
         "1653",
         "4.5",
         "1141415586"
        ],
        [
         "134",
         "2",
         "1682",
         "4.5",
         "1141415845"
        ],
        [
         "149",
         "2",
         "2194",
         "5.0",
         "1141415685"
        ],
        [
         "150",
         "2",
         "2268",
         "4.5",
         "1141416973"
        ],
        [
         "154",
         "2",
         "2355",
         "4.5",
         "1141416727"
        ],
        [
         "160",
         "2",
         "2571",
         "5.0",
         "1141416743"
        ],
        [
         "170",
         "2",
         "2918",
         "4.5",
         "1141417214"
        ],
        [
         "175",
         "2",
         "3114",
         "4.5",
         "1141416634"
        ],
        [
         "182",
         "2",
         "3578",
         "5.0",
         "1141415803"
        ],
        [
         "183",
         "2",
         "3793",
         "5.0",
         "1141416682"
        ],
        [
         "190",
         "2",
         "4022",
         "5.0",
         "1141415827"
        ],
        [
         "194",
         "2",
         "4306",
         "4.5",
         "1141416668"
        ],
        [
         "200",
         "2",
         "4886",
         "5.0",
         "1141415669"
        ],
        [
         "201",
         "2",
         "4896",
         "5.0",
         "1141416646"
        ],
        [
         "203",
         "2",
         "4993",
         "5.0",
         "1141417201"
        ],
        [
         "204",
         "2",
         "4995",
         "5.0",
         "1141416710"
        ],
        [
         "207",
         "2",
         "5349",
         "5.0",
         "1141416664"
        ],
        [
         "208",
         "2",
         "5418",
         "5.0",
         "1141416643"
        ],
        [
         "211",
         "2",
         "5816",
         "5.0",
         "1141415950"
        ],
        [
         "212",
         "2",
         "5952",
         "5.0",
         "1141415528"
        ],
        [
         "219",
         "2",
         "6333",
         "5.0",
         "1141416621"
        ],
        [
         "220",
         "2",
         "6539",
         "5.0",
         "1141417009"
        ],
        [
         "230",
         "2",
         "7153",
         "5.0",
         "1141416779"
        ]
       ],
       "shape": {
        "columns": 4,
        "rows": 2619681
       }
      },
      "text/html": [
       "<div>\n",
       "<style scoped>\n",
       "    .dataframe tbody tr th:only-of-type {\n",
       "        vertical-align: middle;\n",
       "    }\n",
       "\n",
       "    .dataframe tbody tr th {\n",
       "        vertical-align: top;\n",
       "    }\n",
       "\n",
       "    .dataframe thead th {\n",
       "        text-align: right;\n",
       "    }\n",
       "</style>\n",
       "<table border=\"1\" class=\"dataframe\">\n",
       "  <thead>\n",
       "    <tr style=\"text-align: right;\">\n",
       "      <th></th>\n",
       "      <th>userId</th>\n",
       "      <th>movieId</th>\n",
       "      <th>rating</th>\n",
       "      <th>timestamp</th>\n",
       "    </tr>\n",
       "  </thead>\n",
       "  <tbody>\n",
       "    <tr>\n",
       "      <th>0</th>\n",
       "      <td>1</td>\n",
       "      <td>296</td>\n",
       "      <td>5.0</td>\n",
       "      <td>1147880044</td>\n",
       "    </tr>\n",
       "    <tr>\n",
       "      <th>19</th>\n",
       "      <td>1</td>\n",
       "      <td>2692</td>\n",
       "      <td>5.0</td>\n",
       "      <td>1147869100</td>\n",
       "    </tr>\n",
       "    <tr>\n",
       "      <th>23</th>\n",
       "      <td>1</td>\n",
       "      <td>3949</td>\n",
       "      <td>5.0</td>\n",
       "      <td>1147868678</td>\n",
       "    </tr>\n",
       "    <tr>\n",
       "      <th>29</th>\n",
       "      <td>1</td>\n",
       "      <td>4973</td>\n",
       "      <td>4.5</td>\n",
       "      <td>1147869080</td>\n",
       "    </tr>\n",
       "    <tr>\n",
       "      <th>37</th>\n",
       "      <td>1</td>\n",
       "      <td>6016</td>\n",
       "      <td>5.0</td>\n",
       "      <td>1147869090</td>\n",
       "    </tr>\n",
       "    <tr>\n",
       "      <th>...</th>\n",
       "      <td>...</td>\n",
       "      <td>...</td>\n",
       "      <td>...</td>\n",
       "      <td>...</td>\n",
       "    </tr>\n",
       "    <tr>\n",
       "      <th>25000065</th>\n",
       "      <td>162541</td>\n",
       "      <td>5952</td>\n",
       "      <td>5.0</td>\n",
       "      <td>1240952617</td>\n",
       "    </tr>\n",
       "    <tr>\n",
       "      <th>25000077</th>\n",
       "      <td>162541</td>\n",
       "      <td>7147</td>\n",
       "      <td>4.5</td>\n",
       "      <td>1240952343</td>\n",
       "    </tr>\n",
       "    <tr>\n",
       "      <th>25000078</th>\n",
       "      <td>162541</td>\n",
       "      <td>7153</td>\n",
       "      <td>5.0</td>\n",
       "      <td>1240952613</td>\n",
       "    </tr>\n",
       "    <tr>\n",
       "      <th>25000081</th>\n",
       "      <td>162541</td>\n",
       "      <td>7361</td>\n",
       "      <td>4.5</td>\n",
       "      <td>1240953484</td>\n",
       "    </tr>\n",
       "    <tr>\n",
       "      <th>25000090</th>\n",
       "      <td>162541</td>\n",
       "      <td>50872</td>\n",
       "      <td>4.5</td>\n",
       "      <td>1240953372</td>\n",
       "    </tr>\n",
       "  </tbody>\n",
       "</table>\n",
       "<p>2619681 rows × 4 columns</p>\n",
       "</div>"
      ],
      "text/plain": [
       "          userId  movieId  rating   timestamp\n",
       "0              1      296     5.0  1147880044\n",
       "19             1     2692     5.0  1147869100\n",
       "23             1     3949     5.0  1147868678\n",
       "29             1     4973     4.5  1147869080\n",
       "37             1     6016     5.0  1147869090\n",
       "...          ...      ...     ...         ...\n",
       "25000065  162541     5952     5.0  1240952617\n",
       "25000077  162541     7147     4.5  1240952343\n",
       "25000078  162541     7153     5.0  1240952613\n",
       "25000081  162541     7361     4.5  1240953484\n",
       "25000090  162541    50872     4.5  1240953372\n",
       "\n",
       "[2619681 rows x 4 columns]"
      ]
     },
     "execution_count": 15,
     "metadata": {},
     "output_type": "execute_result"
    }
   ],
   "source": [
    "# find all users who rated a movie highly that is in our set of recommended movies\n",
    "all_users = ratings[(ratings['movieId'].isin(similar_user_recs.index)) & (ratings['rating'] > 4)]\n",
    "all_users"
   ]
  },
  {
   "cell_type": "code",
   "execution_count": 16,
   "id": "305838a4",
   "metadata": {},
   "outputs": [
    {
     "data": {
      "application/vnd.microsoft.datawrangler.viewer.v0+json": {
       "columns": [
        {
         "name": "movieId",
         "rawType": "int64",
         "type": "integer"
        },
        {
         "name": "count",
         "rawType": "float64",
         "type": "float"
        }
       ],
       "ref": "fb5e2cf5-50d1-4ef6-90a7-9b54aa3cf418",
       "rows": [
        [
         "318",
         "0.33157742773731996"
        ],
        [
         "296",
         "0.2758204741586731"
        ],
        [
         "2571",
         "0.23644413076256776"
        ],
        [
         "356",
         "0.22794905521157485"
        ],
        [
         "593",
         "0.21888293606236567"
        ],
        [
         "260",
         "0.21529626896795098"
        ],
        [
         "2959",
         "0.2099772224182734"
        ],
        [
         "527",
         "0.20851432421160696"
        ],
        [
         "858",
         "0.2035225048923679"
        ],
        [
         "50",
         "0.19427673157742772"
        ],
        [
         "1196",
         "0.1821821564916108"
        ],
        [
         "4993",
         "0.18168169131564596"
        ],
        [
         "7153",
         "0.1672066985338937"
        ],
        [
         "2858",
         "0.16242019826120432"
        ],
        [
         "5952",
         "0.16116261910108756"
        ],
        [
         "1198",
         "0.15949440184787142"
        ],
        [
         "110",
         "0.15586923743222866"
        ],
        [
         "58559",
         "0.14191395848705526"
        ],
        [
         "47",
         "0.13997625998524268"
        ],
        [
         "1210",
         "0.13990568156299124"
        ],
        [
         "608",
         "0.1398094382599211"
        ],
        [
         "589",
         "0.13056366494498092"
        ],
        [
         "4226",
         "0.12784960379840235"
        ],
        [
         "2028",
         "0.1274453819255077"
        ],
        [
         "79132",
         "0.1272978088608001"
        ],
        [
         "1221",
         "0.12318501170960187"
        ],
        [
         "1",
         "0.1208495075550993"
        ],
        [
         "1136",
         "0.11867440890571364"
        ],
        [
         "1197",
         "0.11561387186808252"
        ],
        [
         "1193",
         "0.11510057425170832"
        ],
        [
         "2762",
         "0.11461935773635751"
        ],
        [
         "541",
         "0.11142408007442815"
        ],
        [
         "3578",
         "0.1112957556703346"
        ],
        [
         "1270",
         "0.11104552308235219"
        ],
        [
         "4973",
         "0.1089089217541946"
        ],
        [
         "1704",
         "0.10443681627153444"
        ],
        [
         "7361",
         "0.10099772224182733"
        ],
        [
         "1213",
         "0.10006737031214911"
        ],
        [
         "1214",
         "0.09824516377402072"
        ],
        [
         "1089",
         "0.09764203907478104"
        ],
        [
         "32",
         "0.0971736549998396"
        ],
        [
         "480",
         "0.09678226556735427"
        ],
        [
         "457",
         "0.09474832376247153"
        ],
        [
         "293",
         "0.09238073850694556"
        ],
        [
         "750",
         "0.0918866895511854"
        ],
        [
         "2329",
         "0.09177761380770588"
        ],
        [
         "912",
         "0.08971800712200442"
        ],
        [
         "1291",
         "0.0895832664977062"
        ],
        [
         "150",
         "0.08776105995957781"
        ],
        [
         "1206",
         "0.08402681980045555"
        ]
       ],
       "shape": {
        "columns": 1,
        "rows": 273
       }
      },
      "text/plain": [
       "movieId\n",
       "318     0.331577\n",
       "296     0.275820\n",
       "2571    0.236444\n",
       "356     0.227949\n",
       "593     0.218883\n",
       "          ...   \n",
       "1907    0.019409\n",
       "3175    0.019037\n",
       "474     0.018338\n",
       "2       0.017112\n",
       "440     0.016509\n",
       "Name: count, Length: 273, dtype: float64"
      ]
     },
     "execution_count": 16,
     "metadata": {},
     "output_type": "execute_result"
    }
   ],
   "source": [
    "# find what percentage of all users recommend each of these movies\n",
    "all_user_recs = all_users['movieId'].value_counts() / len(all_users[\"userId\"].unique())\n",
    "all_user_recs"
   ]
  },
  {
   "cell_type": "markdown",
   "id": "b5f4fa51",
   "metadata": {},
   "source": [
    "Now that the percentages are found, we can just compare them."
   ]
  },
  {
   "cell_type": "code",
   "execution_count": 17,
   "id": "ed03b856",
   "metadata": {},
   "outputs": [
    {
     "data": {
      "application/vnd.microsoft.datawrangler.viewer.v0+json": {
       "columns": [
        {
         "name": "movieId",
         "rawType": "int64",
         "type": "integer"
        },
        {
         "name": "similar",
         "rawType": "float64",
         "type": "float"
        },
        {
         "name": "all",
         "rawType": "float64",
         "type": "float"
        }
       ],
       "ref": "5a8d107d-0ce2-4d2e-8a6e-b4bcc4747f93",
       "rows": [
        [
         "1",
         "1.0",
         "0.1208495075550993"
        ],
        [
         "318",
         "0.5496035429207882",
         "0.33157742773731996"
        ],
        [
         "260",
         "0.5315176748256384",
         "0.21529626896795098"
        ],
        [
         "356",
         "0.5172240048794717",
         "0.22794905521157485"
        ],
        [
         "296",
         "0.49574372165795966",
         "0.2758204741586731"
        ],
        [
         "593",
         "0.4685088440425363",
         "0.21888293606236567"
        ],
        [
         "2571",
         "0.4677928346018192",
         "0.23644413076256776"
        ],
        [
         "1196",
         "0.4463390702484818",
         "0.1821821564916108"
        ],
        [
         "1198",
         "0.4285449097032539",
         "0.15949440184787142"
        ],
        [
         "1210",
         "0.4237980322999814",
         "0.13990568156299124"
        ],
        [
         "1270",
         "0.40767456044976",
         "0.11104552308235219"
        ],
        [
         "527",
         "0.3992680792383781",
         "0.20851432421160696"
        ],
        [
         "50",
         "0.38529263571030786",
         "0.19427673157742772"
        ],
        [
         "589",
         "0.37855684319393246",
         "0.13056366494498092"
        ],
        [
         "480",
         "0.37460553183590123",
         "0.09678226556735427"
        ],
        [
         "110",
         "0.37007080537802645",
         "0.15586923743222866"
        ],
        [
         "4993",
         "0.3652443713702299",
         "0.18168169131564596"
        ],
        [
         "858",
         "0.3558832109045586",
         "0.2035225048923679"
        ],
        [
         "608",
         "0.35262139011906973",
         "0.1398094382599211"
        ],
        [
         "2959",
         "0.3518258240738285",
         "0.2099772224182734"
        ],
        [
         "364",
         "0.3475297674295261",
         "0.08309646787077732"
        ],
        [
         "47",
         "0.345646927789122",
         "0.13997625998524268"
        ],
        [
         "2762",
         "0.33384603145137765",
         "0.11461935773635751"
        ],
        [
         "457",
         "0.3328383144607388",
         "0.09474832376247153"
        ],
        [
         "5952",
         "0.33275875785621467",
         "0.16116261910108756"
        ],
        [
         "2028",
         "0.3320162295473229",
         "0.1274453819255077"
        ],
        [
         "588",
         "0.32962953141159934",
         "0.06541336498668635"
        ],
        [
         "2858",
         "0.3291256729162799",
         "0.16242019826120432"
        ],
        [
         "3114",
         "0.3289135219708823",
         "0.05203554585993391"
        ],
        [
         "150",
         "0.3272428332758758",
         "0.08776105995957781"
        ],
        [
         "1197",
         "0.3252804370309475",
         "0.11561387186808252"
        ],
        [
         "7153",
         "0.32456442759023046",
         "0.1672066985338937"
        ],
        [
         "4306",
         "0.3134530218250285",
         "0.07700747489653845"
        ],
        [
         "32",
         "0.3126044180434379",
         "0.0971736549998396"
        ],
        [
         "1136",
         "0.3101116444350155",
         "0.11867440890571364"
        ],
        [
         "4886",
         "0.3093160783897743",
         "0.0686086426486157"
        ],
        [
         "1291",
         "0.30759235195841844",
         "0.0895832664977062"
        ],
        [
         "1265",
         "0.30480787080007427",
         "0.07739886432902378"
        ],
        [
         "6377",
         "0.2940942480574929",
         "0.07002021109364473"
        ],
        [
         "3578",
         "0.2830889177649898",
         "0.1112957556703346"
        ],
        [
         "1240",
         "0.28170993661990507",
         "0.07857303262647974"
        ],
        [
         "1036",
         "0.27961494603410325",
         "0.0787013570305733"
        ],
        [
         "1704",
         "0.2790580498024344",
         "0.10443681627153444"
        ],
        [
         "4226",
         "0.2725874459678061",
         "0.12784960379840235"
        ],
        [
         "1214",
         "0.26813227611445545",
         "0.09824516377402072"
        ],
        [
         "8961",
         "0.26144952133442945",
         "0.06632446825575054"
        ],
        [
         "595",
         "0.25723302129465114",
         "0.05811170639376343"
        ],
        [
         "1580",
         "0.257153464690127",
         "0.047178467164993104"
        ],
        [
         "1097",
         "0.2569943514810788",
         "0.0593436206730615"
        ],
        [
         "541",
         "0.25614574769948817",
         "0.11142408007442815"
        ]
       ],
       "shape": {
        "columns": 2,
        "rows": 273
       }
      },
      "text/html": [
       "<div>\n",
       "<style scoped>\n",
       "    .dataframe tbody tr th:only-of-type {\n",
       "        vertical-align: middle;\n",
       "    }\n",
       "\n",
       "    .dataframe tbody tr th {\n",
       "        vertical-align: top;\n",
       "    }\n",
       "\n",
       "    .dataframe thead th {\n",
       "        text-align: right;\n",
       "    }\n",
       "</style>\n",
       "<table border=\"1\" class=\"dataframe\">\n",
       "  <thead>\n",
       "    <tr style=\"text-align: right;\">\n",
       "      <th></th>\n",
       "      <th>similar</th>\n",
       "      <th>all</th>\n",
       "    </tr>\n",
       "    <tr>\n",
       "      <th>movieId</th>\n",
       "      <th></th>\n",
       "      <th></th>\n",
       "    </tr>\n",
       "  </thead>\n",
       "  <tbody>\n",
       "    <tr>\n",
       "      <th>1</th>\n",
       "      <td>1.000000</td>\n",
       "      <td>0.120850</td>\n",
       "    </tr>\n",
       "    <tr>\n",
       "      <th>318</th>\n",
       "      <td>0.549604</td>\n",
       "      <td>0.331577</td>\n",
       "    </tr>\n",
       "    <tr>\n",
       "      <th>260</th>\n",
       "      <td>0.531518</td>\n",
       "      <td>0.215296</td>\n",
       "    </tr>\n",
       "    <tr>\n",
       "      <th>356</th>\n",
       "      <td>0.517224</td>\n",
       "      <td>0.227949</td>\n",
       "    </tr>\n",
       "    <tr>\n",
       "      <th>296</th>\n",
       "      <td>0.495744</td>\n",
       "      <td>0.275820</td>\n",
       "    </tr>\n",
       "    <tr>\n",
       "      <th>...</th>\n",
       "      <td>...</td>\n",
       "      <td>...</td>\n",
       "    </tr>\n",
       "    <tr>\n",
       "      <th>235</th>\n",
       "      <td>0.101249</td>\n",
       "      <td>0.022579</td>\n",
       "    </tr>\n",
       "    <tr>\n",
       "      <th>1242</th>\n",
       "      <td>0.100931</td>\n",
       "      <td>0.023740</td>\n",
       "    </tr>\n",
       "    <tr>\n",
       "      <th>1907</th>\n",
       "      <td>0.100772</td>\n",
       "      <td>0.019409</td>\n",
       "    </tr>\n",
       "    <tr>\n",
       "      <th>3527</th>\n",
       "      <td>0.100613</td>\n",
       "      <td>0.023984</td>\n",
       "    </tr>\n",
       "    <tr>\n",
       "      <th>2761</th>\n",
       "      <td>0.100135</td>\n",
       "      <td>0.020275</td>\n",
       "    </tr>\n",
       "  </tbody>\n",
       "</table>\n",
       "<p>273 rows × 2 columns</p>\n",
       "</div>"
      ],
      "text/plain": [
       "          similar       all\n",
       "movieId                    \n",
       "1        1.000000  0.120850\n",
       "318      0.549604  0.331577\n",
       "260      0.531518  0.215296\n",
       "356      0.517224  0.227949\n",
       "296      0.495744  0.275820\n",
       "...           ...       ...\n",
       "235      0.101249  0.022579\n",
       "1242     0.100931  0.023740\n",
       "1907     0.100772  0.019409\n",
       "3527     0.100613  0.023984\n",
       "2761     0.100135  0.020275\n",
       "\n",
       "[273 rows x 2 columns]"
      ]
     },
     "execution_count": 17,
     "metadata": {},
     "output_type": "execute_result"
    }
   ],
   "source": [
    "rec_percentages = pd.concat([similar_user_recs, all_user_recs], axis=1)\n",
    "rec_percentages.columns = [\"similar\", \"all\"]\n",
    "rec_percentages"
   ]
  },
  {
   "cell_type": "code",
   "execution_count": 18,
   "id": "522c9aa5",
   "metadata": {},
   "outputs": [
    {
     "data": {
      "application/vnd.microsoft.datawrangler.viewer.v0+json": {
       "columns": [
        {
         "name": "movieId",
         "rawType": "int64",
         "type": "integer"
        },
        {
         "name": "similar",
         "rawType": "float64",
         "type": "float"
        },
        {
         "name": "all",
         "rawType": "float64",
         "type": "float"
        },
        {
         "name": "score",
         "rawType": "float64",
         "type": "float"
        }
       ],
       "ref": "92a2eaaf-d63f-4060-83fe-190c45c2b82d",
       "rows": [
        [
         "1",
         "1.0",
         "0.1208495075550993",
         "8.274754446509158"
        ],
        [
         "2355",
         "0.19109496406693363",
         "0.02431105835552276",
         "7.860413202600143"
        ],
        [
         "648",
         "0.18738232252247475",
         "0.02852651502999583",
         "6.568707124772897"
        ],
        [
         "440",
         "0.10453737834469225",
         "0.016508934586635014",
         "6.332169880261177"
        ],
        [
         "3114",
         "0.3289135219708823",
         "0.05203554585993391",
         "6.3209392067536205"
        ],
        [
         "3751",
         "0.12837784083375323",
         "0.02075647236213147",
         "6.184954677942692"
        ],
        [
         "592",
         "0.2006417566098279",
         "0.032440409354849056",
         "6.184932946286536"
        ],
        [
         "2",
         "0.1055981330716805",
         "0.01711205928587469",
         "6.1709775140182845"
        ],
        [
         "2797",
         "0.15213874671829006",
         "0.02486285329312502",
         "6.119118547039767"
        ],
        [
         "2987",
         "0.15129014293669946",
         "0.024882101953739053",
         "6.080279842031793"
        ],
        [
         "736",
         "0.1274231615794638",
         "0.021346764620961793",
         "5.969202539214706"
        ],
        [
         "367",
         "0.12869606725184968",
         "0.02182156491610792",
         "5.897655266550141"
        ],
        [
         "1393",
         "0.1573629637487072",
         "0.026993038401077925",
         "5.829761044700442"
        ],
        [
         "2174",
         "0.12843087857010263",
         "0.022187289467774533",
         "5.7884888893994635"
        ],
        [
         "2081",
         "0.1207138879312631",
         "0.020936126527862437",
         "5.765817653547965"
        ],
        [
         "10",
         "0.12262324643984195",
         "0.021404510602803888",
         "5.728850741571213"
        ],
        [
         "474",
         "0.1043517462674693",
         "0.01833755734496808",
         "5.690602314386434"
        ],
        [
         "3175",
         "0.10798483120740407",
         "0.019036925347277918",
         "5.672388226434095"
        ],
        [
         "586",
         "0.11201569916995943",
         "0.019922363735523405",
         "5.622610883779075"
        ],
        [
         "300",
         "0.10668540666684347",
         "0.019473228321195985",
         "5.478568058010177"
        ],
        [
         "1580",
         "0.257153464690127",
         "0.047178467164993104",
         "5.450653235316163"
        ],
        [
         "2683",
         "0.10647325572144581",
         "0.019646466266722274",
         "5.419460898257981"
        ],
        [
         "141",
         "0.12485083136651727",
         "0.023387122646049214",
         "5.338443435563388"
        ],
        [
         "5349",
         "0.17141796388130154",
         "0.03217734432645728",
         "5.327287489675026"
        ],
        [
         "2000",
         "0.1324882654008327",
         "0.02493984793558115",
         "5.312312478530172"
        ],
        [
         "1517",
         "0.1401522183033228",
         "0.026505405665522442",
         "5.287684333978304"
        ],
        [
         "21",
         "0.12381659550770373",
         "0.023425619967277277",
         "5.285520540359673"
        ],
        [
         "39",
         "0.13301864276432682",
         "0.02518366430335889",
         "5.281941545995963"
        ],
        [
         "1500",
         "0.10769312365748229",
         "0.020461326232716306",
         "5.263252363636533"
        ],
        [
         "1641",
         "0.10949640669336233",
         "0.0209746238490905",
         "5.220422901558271"
        ],
        [
         "1356",
         "0.14391789758413112",
         "0.0276539090821597",
         "5.204251491409456"
        ],
        [
         "1907",
         "0.10077169906388396",
         "0.01940906611914921",
         "5.191991126479879"
        ],
        [
         "2916",
         "0.13108276538757327",
         "0.02549164287318341",
         "5.142185854387171"
        ],
        [
         "594",
         "0.12429393513484845",
         "0.024176317731224535",
         "5.14114417739963"
        ],
        [
         "8360",
         "0.1262828502479514",
         "0.024875685733534374",
         "5.076557551043195"
        ],
        [
         "500",
         "0.15041502028693415",
         "0.029809759070931315",
         "5.045831465092579"
        ],
        [
         "588",
         "0.32962953141159934",
         "0.06541336498668635",
         "5.039177108205474"
        ],
        [
         "1101",
         "0.10832957649367525",
         "0.021738154053447114",
         "4.983384340148098"
        ],
        [
         "1127",
         "0.1118831048290859",
         "0.022604343781078565",
         "4.949628527714216"
        ],
        [
         "2761",
         "0.100135246227691",
         "0.020275255846780662",
         "4.938790759752146"
        ],
        [
         "104",
         "0.11013285952955527",
         "0.02232844631227744",
         "4.932401385626102"
        ],
        [
         "1073",
         "0.2318014267151078",
         "0.047249045587244555",
         "4.905949397159577"
        ],
        [
         "8636",
         "0.12219894454904665",
         "0.025068172339674698",
         "4.874665088991979"
        ],
        [
         "3793",
         "0.17905539791561695",
         "0.03692534727791858",
         "4.84911886049322"
        ],
        [
         "377",
         "0.1892651621628789",
         "0.03906836482628084",
         "4.844460806190752"
        ],
        [
         "2012",
         "0.10827653875732583",
         "0.022405440954733565",
         "4.832600214210486"
        ],
        [
         "11",
         "0.1014081519000769",
         "0.021115780693593406",
         "4.802481772830898"
        ],
        [
         "5218",
         "0.10989418971598292",
         "0.02297006833274518",
         "4.784234340275005"
        ],
        [
         "1028",
         "0.12805961441565675",
         "0.02678130313432357",
         "4.781679732810777"
        ],
        [
         "344",
         "0.1118831048290859",
         "0.023406371306663246",
         "4.7800277695003235"
        ]
       ],
       "shape": {
        "columns": 3,
        "rows": 273
       }
      },
      "text/html": [
       "<div>\n",
       "<style scoped>\n",
       "    .dataframe tbody tr th:only-of-type {\n",
       "        vertical-align: middle;\n",
       "    }\n",
       "\n",
       "    .dataframe tbody tr th {\n",
       "        vertical-align: top;\n",
       "    }\n",
       "\n",
       "    .dataframe thead th {\n",
       "        text-align: right;\n",
       "    }\n",
       "</style>\n",
       "<table border=\"1\" class=\"dataframe\">\n",
       "  <thead>\n",
       "    <tr style=\"text-align: right;\">\n",
       "      <th></th>\n",
       "      <th>similar</th>\n",
       "      <th>all</th>\n",
       "      <th>score</th>\n",
       "    </tr>\n",
       "    <tr>\n",
       "      <th>movieId</th>\n",
       "      <th></th>\n",
       "      <th></th>\n",
       "      <th></th>\n",
       "    </tr>\n",
       "  </thead>\n",
       "  <tbody>\n",
       "    <tr>\n",
       "      <th>1</th>\n",
       "      <td>1.000000</td>\n",
       "      <td>0.120850</td>\n",
       "      <td>8.274754</td>\n",
       "    </tr>\n",
       "    <tr>\n",
       "      <th>2355</th>\n",
       "      <td>0.191095</td>\n",
       "      <td>0.024311</td>\n",
       "      <td>7.860413</td>\n",
       "    </tr>\n",
       "    <tr>\n",
       "      <th>648</th>\n",
       "      <td>0.187382</td>\n",
       "      <td>0.028527</td>\n",
       "      <td>6.568707</td>\n",
       "    </tr>\n",
       "    <tr>\n",
       "      <th>440</th>\n",
       "      <td>0.104537</td>\n",
       "      <td>0.016509</td>\n",
       "      <td>6.332170</td>\n",
       "    </tr>\n",
       "    <tr>\n",
       "      <th>3114</th>\n",
       "      <td>0.328914</td>\n",
       "      <td>0.052036</td>\n",
       "      <td>6.320939</td>\n",
       "    </tr>\n",
       "    <tr>\n",
       "      <th>...</th>\n",
       "      <td>...</td>\n",
       "      <td>...</td>\n",
       "      <td>...</td>\n",
       "    </tr>\n",
       "    <tr>\n",
       "      <th>858</th>\n",
       "      <td>0.355883</td>\n",
       "      <td>0.203523</td>\n",
       "      <td>1.748618</td>\n",
       "    </tr>\n",
       "    <tr>\n",
       "      <th>2959</th>\n",
       "      <td>0.351826</td>\n",
       "      <td>0.209977</td>\n",
       "      <td>1.675543</td>\n",
       "    </tr>\n",
       "    <tr>\n",
       "      <th>318</th>\n",
       "      <td>0.549604</td>\n",
       "      <td>0.331577</td>\n",
       "      <td>1.657542</td>\n",
       "    </tr>\n",
       "    <tr>\n",
       "      <th>79132</th>\n",
       "      <td>0.209870</td>\n",
       "      <td>0.127298</td>\n",
       "      <td>1.648656</td>\n",
       "    </tr>\n",
       "    <tr>\n",
       "      <th>109487</th>\n",
       "      <td>0.117426</td>\n",
       "      <td>0.071740</td>\n",
       "      <td>1.636827</td>\n",
       "    </tr>\n",
       "  </tbody>\n",
       "</table>\n",
       "<p>273 rows × 3 columns</p>\n",
       "</div>"
      ],
      "text/plain": [
       "          similar       all     score\n",
       "movieId                              \n",
       "1        1.000000  0.120850  8.274754\n",
       "2355     0.191095  0.024311  7.860413\n",
       "648      0.187382  0.028527  6.568707\n",
       "440      0.104537  0.016509  6.332170\n",
       "3114     0.328914  0.052036  6.320939\n",
       "...           ...       ...       ...\n",
       "858      0.355883  0.203523  1.748618\n",
       "2959     0.351826  0.209977  1.675543\n",
       "318      0.549604  0.331577  1.657542\n",
       "79132    0.209870  0.127298  1.648656\n",
       "109487   0.117426  0.071740  1.636827\n",
       "\n",
       "[273 rows x 3 columns]"
      ]
     },
     "execution_count": 18,
     "metadata": {},
     "output_type": "execute_result"
    }
   ],
   "source": [
    "# find ratio score between percentages\n",
    "rec_percentages[\"score\"] = rec_percentages[\"similar\"] / rec_percentages[\"all\"]\n",
    "rec_percentages = rec_percentages.sort_values(\"score\", ascending=False)\n",
    "rec_percentages"
   ]
  },
  {
   "cell_type": "code",
   "execution_count": 19,
   "id": "dbfd4b86",
   "metadata": {},
   "outputs": [
    {
     "data": {
      "application/vnd.microsoft.datawrangler.viewer.v0+json": {
       "columns": [
        {
         "name": "index",
         "rawType": "int64",
         "type": "integer"
        },
        {
         "name": "similar",
         "rawType": "float64",
         "type": "float"
        },
        {
         "name": "all",
         "rawType": "float64",
         "type": "float"
        },
        {
         "name": "score",
         "rawType": "float64",
         "type": "float"
        },
        {
         "name": "movieId",
         "rawType": "int64",
         "type": "integer"
        },
        {
         "name": "title",
         "rawType": "object",
         "type": "string"
        },
        {
         "name": "genres",
         "rawType": "object",
         "type": "string"
        },
        {
         "name": "clean_title",
         "rawType": "object",
         "type": "string"
        }
       ],
       "ref": "208a869e-112e-4443-ad8e-8c23acbb3363",
       "rows": [
        [
         "0",
         "1.0",
         "0.1208495075550993",
         "8.274754446509158",
         "1",
         "Toy Story (1995)",
         "Adventure|Animation|Children|Comedy|Fantasy",
         "Toy Story 1995"
        ],
        [
         "2264",
         "0.19109496406693363",
         "0.02431105835552276",
         "7.860413202600143",
         "2355",
         "Bug's Life, A (1998)",
         "Adventure|Animation|Children|Comedy",
         "Bugs Life A 1998"
        ],
        [
         "637",
         "0.18738232252247475",
         "0.02852651502999583",
         "6.568707124772897",
         "648",
         "Mission: Impossible (1996)",
         "Action|Adventure|Mystery|Thriller",
         "Mission Impossible 1996"
        ],
        [
         "435",
         "0.10453737834469225",
         "0.016508934586635014",
         "6.332169880261177",
         "440",
         "Dave (1993)",
         "Comedy|Romance",
         "Dave 1993"
        ],
        [
         "3021",
         "0.3289135219708823",
         "0.05203554585993391",
         "6.3209392067536205",
         "3114",
         "Toy Story 2 (1999)",
         "Adventure|Animation|Children|Comedy|Fantasy",
         "Toy Story 2 1999"
        ],
        [
         "3650",
         "0.12837784083375323",
         "0.02075647236213147",
         "6.184954677942692",
         "3751",
         "Chicken Run (2000)",
         "Animation|Children|Comedy",
         "Chicken Run 2000"
        ],
        [
         "584",
         "0.2006417566098279",
         "0.032440409354849056",
         "6.184932946286536",
         "592",
         "Batman (1989)",
         "Action|Crime|Thriller",
         "Batman 1989"
        ],
        [
         "1",
         "0.1055981330716805",
         "0.01711205928587469",
         "6.1709775140182845",
         "2",
         "Jumanji (1995)",
         "Adventure|Children|Fantasy",
         "Jumanji 1995"
        ],
        [
         "2705",
         "0.15213874671829006",
         "0.02486285329312502",
         "6.119118547039767",
         "2797",
         "Big (1988)",
         "Comedy|Drama|Fantasy|Romance",
         "Big 1988"
        ],
        [
         "2895",
         "0.15129014293669946",
         "0.024882101953739053",
         "6.080279842031793",
         "2987",
         "Who Framed Roger Rabbit? (1988)",
         "Adventure|Animation|Children|Comedy|Crime|Fantasy|Mystery",
         "Who Framed Roger Rabbit 1988"
        ]
       ],
       "shape": {
        "columns": 7,
        "rows": 10
       }
      },
      "text/html": [
       "<div>\n",
       "<style scoped>\n",
       "    .dataframe tbody tr th:only-of-type {\n",
       "        vertical-align: middle;\n",
       "    }\n",
       "\n",
       "    .dataframe tbody tr th {\n",
       "        vertical-align: top;\n",
       "    }\n",
       "\n",
       "    .dataframe thead th {\n",
       "        text-align: right;\n",
       "    }\n",
       "</style>\n",
       "<table border=\"1\" class=\"dataframe\">\n",
       "  <thead>\n",
       "    <tr style=\"text-align: right;\">\n",
       "      <th></th>\n",
       "      <th>similar</th>\n",
       "      <th>all</th>\n",
       "      <th>score</th>\n",
       "      <th>movieId</th>\n",
       "      <th>title</th>\n",
       "      <th>genres</th>\n",
       "      <th>clean_title</th>\n",
       "    </tr>\n",
       "  </thead>\n",
       "  <tbody>\n",
       "    <tr>\n",
       "      <th>0</th>\n",
       "      <td>1.000000</td>\n",
       "      <td>0.120850</td>\n",
       "      <td>8.274754</td>\n",
       "      <td>1</td>\n",
       "      <td>Toy Story (1995)</td>\n",
       "      <td>Adventure|Animation|Children|Comedy|Fantasy</td>\n",
       "      <td>Toy Story 1995</td>\n",
       "    </tr>\n",
       "    <tr>\n",
       "      <th>2264</th>\n",
       "      <td>0.191095</td>\n",
       "      <td>0.024311</td>\n",
       "      <td>7.860413</td>\n",
       "      <td>2355</td>\n",
       "      <td>Bug's Life, A (1998)</td>\n",
       "      <td>Adventure|Animation|Children|Comedy</td>\n",
       "      <td>Bugs Life A 1998</td>\n",
       "    </tr>\n",
       "    <tr>\n",
       "      <th>637</th>\n",
       "      <td>0.187382</td>\n",
       "      <td>0.028527</td>\n",
       "      <td>6.568707</td>\n",
       "      <td>648</td>\n",
       "      <td>Mission: Impossible (1996)</td>\n",
       "      <td>Action|Adventure|Mystery|Thriller</td>\n",
       "      <td>Mission Impossible 1996</td>\n",
       "    </tr>\n",
       "    <tr>\n",
       "      <th>435</th>\n",
       "      <td>0.104537</td>\n",
       "      <td>0.016509</td>\n",
       "      <td>6.332170</td>\n",
       "      <td>440</td>\n",
       "      <td>Dave (1993)</td>\n",
       "      <td>Comedy|Romance</td>\n",
       "      <td>Dave 1993</td>\n",
       "    </tr>\n",
       "    <tr>\n",
       "      <th>3021</th>\n",
       "      <td>0.328914</td>\n",
       "      <td>0.052036</td>\n",
       "      <td>6.320939</td>\n",
       "      <td>3114</td>\n",
       "      <td>Toy Story 2 (1999)</td>\n",
       "      <td>Adventure|Animation|Children|Comedy|Fantasy</td>\n",
       "      <td>Toy Story 2 1999</td>\n",
       "    </tr>\n",
       "    <tr>\n",
       "      <th>3650</th>\n",
       "      <td>0.128378</td>\n",
       "      <td>0.020756</td>\n",
       "      <td>6.184955</td>\n",
       "      <td>3751</td>\n",
       "      <td>Chicken Run (2000)</td>\n",
       "      <td>Animation|Children|Comedy</td>\n",
       "      <td>Chicken Run 2000</td>\n",
       "    </tr>\n",
       "    <tr>\n",
       "      <th>584</th>\n",
       "      <td>0.200642</td>\n",
       "      <td>0.032440</td>\n",
       "      <td>6.184933</td>\n",
       "      <td>592</td>\n",
       "      <td>Batman (1989)</td>\n",
       "      <td>Action|Crime|Thriller</td>\n",
       "      <td>Batman 1989</td>\n",
       "    </tr>\n",
       "    <tr>\n",
       "      <th>1</th>\n",
       "      <td>0.105598</td>\n",
       "      <td>0.017112</td>\n",
       "      <td>6.170978</td>\n",
       "      <td>2</td>\n",
       "      <td>Jumanji (1995)</td>\n",
       "      <td>Adventure|Children|Fantasy</td>\n",
       "      <td>Jumanji 1995</td>\n",
       "    </tr>\n",
       "    <tr>\n",
       "      <th>2705</th>\n",
       "      <td>0.152139</td>\n",
       "      <td>0.024863</td>\n",
       "      <td>6.119119</td>\n",
       "      <td>2797</td>\n",
       "      <td>Big (1988)</td>\n",
       "      <td>Comedy|Drama|Fantasy|Romance</td>\n",
       "      <td>Big 1988</td>\n",
       "    </tr>\n",
       "    <tr>\n",
       "      <th>2895</th>\n",
       "      <td>0.151290</td>\n",
       "      <td>0.024882</td>\n",
       "      <td>6.080280</td>\n",
       "      <td>2987</td>\n",
       "      <td>Who Framed Roger Rabbit? (1988)</td>\n",
       "      <td>Adventure|Animation|Children|Comedy|Crime|Fant...</td>\n",
       "      <td>Who Framed Roger Rabbit 1988</td>\n",
       "    </tr>\n",
       "  </tbody>\n",
       "</table>\n",
       "</div>"
      ],
      "text/plain": [
       "       similar       all     score  movieId                            title  \\\n",
       "0     1.000000  0.120850  8.274754        1                 Toy Story (1995)   \n",
       "2264  0.191095  0.024311  7.860413     2355             Bug's Life, A (1998)   \n",
       "637   0.187382  0.028527  6.568707      648       Mission: Impossible (1996)   \n",
       "435   0.104537  0.016509  6.332170      440                      Dave (1993)   \n",
       "3021  0.328914  0.052036  6.320939     3114               Toy Story 2 (1999)   \n",
       "3650  0.128378  0.020756  6.184955     3751               Chicken Run (2000)   \n",
       "584   0.200642  0.032440  6.184933      592                    Batman (1989)   \n",
       "1     0.105598  0.017112  6.170978        2                   Jumanji (1995)   \n",
       "2705  0.152139  0.024863  6.119119     2797                       Big (1988)   \n",
       "2895  0.151290  0.024882  6.080280     2987  Who Framed Roger Rabbit? (1988)   \n",
       "\n",
       "                                                 genres  \\\n",
       "0           Adventure|Animation|Children|Comedy|Fantasy   \n",
       "2264                Adventure|Animation|Children|Comedy   \n",
       "637                   Action|Adventure|Mystery|Thriller   \n",
       "435                                      Comedy|Romance   \n",
       "3021        Adventure|Animation|Children|Comedy|Fantasy   \n",
       "3650                          Animation|Children|Comedy   \n",
       "584                               Action|Crime|Thriller   \n",
       "1                            Adventure|Children|Fantasy   \n",
       "2705                       Comedy|Drama|Fantasy|Romance   \n",
       "2895  Adventure|Animation|Children|Comedy|Crime|Fant...   \n",
       "\n",
       "                       clean_title  \n",
       "0                   Toy Story 1995  \n",
       "2264              Bugs Life A 1998  \n",
       "637        Mission Impossible 1996  \n",
       "435                      Dave 1993  \n",
       "3021              Toy Story 2 1999  \n",
       "3650              Chicken Run 2000  \n",
       "584                    Batman 1989  \n",
       "1                     Jumanji 1995  \n",
       "2705                      Big 1988  \n",
       "2895  Who Framed Roger Rabbit 1988  "
      ]
     },
     "execution_count": 19,
     "metadata": {},
     "output_type": "execute_result"
    }
   ],
   "source": [
    "rec_percentages.head(10).merge(movies, left_index=True, right_on=\"movieId\")"
   ]
  },
  {
   "cell_type": "markdown",
   "id": "b58d59a9",
   "metadata": {},
   "source": [
    "Okay so it looks we are getting some recommendations based on the search term. Now, I can clean it up by putting what I've done into a function."
   ]
  },
  {
   "cell_type": "code",
   "execution_count": 20,
   "id": "f2a91291",
   "metadata": {},
   "outputs": [
    {
     "data": {
      "application/vnd.microsoft.datawrangler.viewer.v0+json": {
       "columns": [
        {
         "name": "index",
         "rawType": "int64",
         "type": "integer"
        },
        {
         "name": "score",
         "rawType": "float64",
         "type": "float"
        },
        {
         "name": "title",
         "rawType": "object",
         "type": "string"
        },
        {
         "name": "genres",
         "rawType": "object",
         "type": "string"
        }
       ],
       "ref": "f5f8852c-6c2b-44ce-8beb-7498267af1cb",
       "rows": [
        [
         "0",
         "8.017414388107248",
         "Toy Story (1995)",
         "Adventure|Animation|Children|Comedy|Fantasy"
        ],
        [
         "3021",
         "5.2256538169586815",
         "Toy Story 2 (1999)",
         "Adventure|Animation|Children|Comedy|Fantasy"
        ],
        [
         "2264",
         "4.40545176987049",
         "Bug's Life, A (1998)",
         "Adventure|Animation|Children|Comedy"
        ],
        [
         "14813",
         "4.354037860911778",
         "Toy Story 3 (2010)",
         "Adventure|Animation|Children|Comedy|Fantasy|IMAX"
        ],
        [
         "4780",
         "3.320782598422052",
         "Monsters, Inc. (2001)",
         "Adventure|Animation|Children|Comedy|Fantasy"
        ],
        [
         "580",
         "3.2085385682665586",
         "Aladdin (1992)",
         "Adventure|Animation|Children|Comedy|Musical"
        ],
        [
         "6258",
         "3.1568615069822084",
         "Finding Nemo (2003)",
         "Adventure|Animation|Children|Comedy"
        ],
        [
         "587",
         "2.99114974245494",
         "Beauty and the Beast (1991)",
         "Animation|Children|Fantasy|Musical|Romance|IMAX"
        ],
        [
         "8246",
         "2.9728885894955095",
         "Incredibles, The (2004)",
         "Action|Adventure|Animation|Children|Comedy"
        ],
        [
         "359",
         "2.9547617075465906",
         "Lion King, The (1994)",
         "Adventure|Animation|Children|Drama|Musical|IMAX"
        ]
       ],
       "shape": {
        "columns": 3,
        "rows": 10
       }
      },
      "text/html": [
       "<div>\n",
       "<style scoped>\n",
       "    .dataframe tbody tr th:only-of-type {\n",
       "        vertical-align: middle;\n",
       "    }\n",
       "\n",
       "    .dataframe tbody tr th {\n",
       "        vertical-align: top;\n",
       "    }\n",
       "\n",
       "    .dataframe thead th {\n",
       "        text-align: right;\n",
       "    }\n",
       "</style>\n",
       "<table border=\"1\" class=\"dataframe\">\n",
       "  <thead>\n",
       "    <tr style=\"text-align: right;\">\n",
       "      <th></th>\n",
       "      <th>score</th>\n",
       "      <th>title</th>\n",
       "      <th>genres</th>\n",
       "    </tr>\n",
       "  </thead>\n",
       "  <tbody>\n",
       "    <tr>\n",
       "      <th>0</th>\n",
       "      <td>8.017414</td>\n",
       "      <td>Toy Story (1995)</td>\n",
       "      <td>Adventure|Animation|Children|Comedy|Fantasy</td>\n",
       "    </tr>\n",
       "    <tr>\n",
       "      <th>3021</th>\n",
       "      <td>5.225654</td>\n",
       "      <td>Toy Story 2 (1999)</td>\n",
       "      <td>Adventure|Animation|Children|Comedy|Fantasy</td>\n",
       "    </tr>\n",
       "    <tr>\n",
       "      <th>2264</th>\n",
       "      <td>4.405452</td>\n",
       "      <td>Bug's Life, A (1998)</td>\n",
       "      <td>Adventure|Animation|Children|Comedy</td>\n",
       "    </tr>\n",
       "    <tr>\n",
       "      <th>14813</th>\n",
       "      <td>4.354038</td>\n",
       "      <td>Toy Story 3 (2010)</td>\n",
       "      <td>Adventure|Animation|Children|Comedy|Fantasy|IMAX</td>\n",
       "    </tr>\n",
       "    <tr>\n",
       "      <th>4780</th>\n",
       "      <td>3.320783</td>\n",
       "      <td>Monsters, Inc. (2001)</td>\n",
       "      <td>Adventure|Animation|Children|Comedy|Fantasy</td>\n",
       "    </tr>\n",
       "    <tr>\n",
       "      <th>580</th>\n",
       "      <td>3.208539</td>\n",
       "      <td>Aladdin (1992)</td>\n",
       "      <td>Adventure|Animation|Children|Comedy|Musical</td>\n",
       "    </tr>\n",
       "    <tr>\n",
       "      <th>6258</th>\n",
       "      <td>3.156862</td>\n",
       "      <td>Finding Nemo (2003)</td>\n",
       "      <td>Adventure|Animation|Children|Comedy</td>\n",
       "    </tr>\n",
       "    <tr>\n",
       "      <th>587</th>\n",
       "      <td>2.991150</td>\n",
       "      <td>Beauty and the Beast (1991)</td>\n",
       "      <td>Animation|Children|Fantasy|Musical|Romance|IMAX</td>\n",
       "    </tr>\n",
       "    <tr>\n",
       "      <th>8246</th>\n",
       "      <td>2.972889</td>\n",
       "      <td>Incredibles, The (2004)</td>\n",
       "      <td>Action|Adventure|Animation|Children|Comedy</td>\n",
       "    </tr>\n",
       "    <tr>\n",
       "      <th>359</th>\n",
       "      <td>2.954762</td>\n",
       "      <td>Lion King, The (1994)</td>\n",
       "      <td>Adventure|Animation|Children|Drama|Musical|IMAX</td>\n",
       "    </tr>\n",
       "  </tbody>\n",
       "</table>\n",
       "</div>"
      ],
      "text/plain": [
       "          score                        title  \\\n",
       "0      8.017414             Toy Story (1995)   \n",
       "3021   5.225654           Toy Story 2 (1999)   \n",
       "2264   4.405452         Bug's Life, A (1998)   \n",
       "14813  4.354038           Toy Story 3 (2010)   \n",
       "4780   3.320783        Monsters, Inc. (2001)   \n",
       "580    3.208539               Aladdin (1992)   \n",
       "6258   3.156862          Finding Nemo (2003)   \n",
       "587    2.991150  Beauty and the Beast (1991)   \n",
       "8246   2.972889      Incredibles, The (2004)   \n",
       "359    2.954762        Lion King, The (1994)   \n",
       "\n",
       "                                                 genres  \n",
       "0           Adventure|Animation|Children|Comedy|Fantasy  \n",
       "3021        Adventure|Animation|Children|Comedy|Fantasy  \n",
       "2264                Adventure|Animation|Children|Comedy  \n",
       "14813  Adventure|Animation|Children|Comedy|Fantasy|IMAX  \n",
       "4780        Adventure|Animation|Children|Comedy|Fantasy  \n",
       "580         Adventure|Animation|Children|Comedy|Musical  \n",
       "6258                Adventure|Animation|Children|Comedy  \n",
       "587     Animation|Children|Fantasy|Musical|Romance|IMAX  \n",
       "8246         Action|Adventure|Animation|Children|Comedy  \n",
       "359     Adventure|Animation|Children|Drama|Musical|IMAX  "
      ]
     },
     "execution_count": 20,
     "metadata": {},
     "output_type": "execute_result"
    }
   ],
   "source": [
    "def find_similar_movies(movie_id: str | int) -> pd.DataFrame:\n",
    "    similar_users = ratings[(ratings[\"movieId\"] == movie_id) & (ratings[\"rating\"] > 4)][\"userId\"].unique()\n",
    "    similar_user_recs = ratings[(ratings[\"userId\"].isin(similar_users)) & (ratings[\"rating\"] > 4)][\"movieId\"]\n",
    "\n",
    "    similar_user_recs = similar_user_recs.value_counts() / len(similar_users)\n",
    "    similar_user_recs = similar_user_recs[similar_user_recs > 0.10]\n",
    "\n",
    "    all_users = ratings[(ratings[\"movieId\"].isin(similar_user_recs.index)) & (ratings[\"rating\"] > 4)]\n",
    "    all_user_recs = all_users[\"movieId\"].value_counts() / len(all_users[\"userId\"].unique())\n",
    "\n",
    "    rec_percentages = pd.concat([similar_user_recs, all_user_recs], axis=1)\n",
    "    rec_percentages.columns = [\"similar\", \"all\"]\n",
    "\n",
    "    rec_percentages[\"score\"] = rec_percentages[\"similar\"] / rec_percentages[\"all\"]\n",
    "    rec_percentages = rec_percentages.sort_values(\"score\", ascending=False)\n",
    "    return rec_percentages.head(10).merge(movies, left_index=True, right_on=\"movieId\")[[\"score\", \"title\", \"genres\"]]\n",
    "\n",
    "similar_movies = find_similar_movies(1)\n",
    "similar_movies"
   ]
  },
  {
   "cell_type": "markdown",
   "id": "451a344b",
   "metadata": {},
   "source": [
    "A widget like the one made earlier will make it easier to test out whether recommendations seem appropriate given the search term."
   ]
  },
  {
   "cell_type": "code",
   "execution_count": 21,
   "id": "f1b5e843",
   "metadata": {},
   "outputs": [
    {
     "data": {
      "application/vnd.jupyter.widget-view+json": {
       "model_id": "95c0af5e132b40c7b0f65107c8036c4b",
       "version_major": 2,
       "version_minor": 0
      },
      "text/plain": [
       "Text(value='', description='Movie Title:')"
      ]
     },
     "metadata": {},
     "output_type": "display_data"
    },
    {
     "data": {
      "application/vnd.jupyter.widget-view+json": {
       "model_id": "1c70c89c3c0f4f5480677e5b9bd1ba1d",
       "version_major": 2,
       "version_minor": 0
      },
      "text/plain": [
       "Output()"
      ]
     },
     "metadata": {},
     "output_type": "display_data"
    }
   ],
   "source": [
    "movie_name_input = widgets.Text(\n",
    "    value=\"\",\n",
    "    description=\"Movie Title:\",\n",
    "    disabled=False\n",
    ")\n",
    "\n",
    "recommendation_list = widgets.Output()\n",
    "\n",
    "def on_type(data):\n",
    "    with recommendation_list:\n",
    "        recommendation_list.clear_output()\n",
    "        title = data[\"new\"]\n",
    "        if len(title) > 3:\n",
    "            results = nsearch(title, 10)\n",
    "            movie_id = results.iloc[0][\"movieId\"]\n",
    "            display(find_similar_movies(movie_id))\n",
    "\n",
    "movie_name_input.observe(on_type, names=\"value\")\n",
    "\n",
    "display(movie_name_input, recommendation_list)"
   ]
  }
 ],
 "metadata": {
  "kernelspec": {
   "display_name": "venv",
   "language": "python",
   "name": "python3"
  },
  "language_info": {
   "codemirror_mode": {
    "name": "ipython",
    "version": 3
   },
   "file_extension": ".py",
   "mimetype": "text/x-python",
   "name": "python",
   "nbconvert_exporter": "python",
   "pygments_lexer": "ipython3",
   "version": "3.13.5"
  }
 },
 "nbformat": 4,
 "nbformat_minor": 5
}
