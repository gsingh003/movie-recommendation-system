{
 "cells": [
  {
   "cell_type": "code",
   "execution_count": 1,
   "id": "a1bbbdb2",
   "metadata": {},
   "outputs": [
    {
     "data": {
      "application/vnd.microsoft.datawrangler.viewer.v0+json": {
       "columns": [
        {
         "name": "index",
         "rawType": "int64",
         "type": "integer"
        },
        {
         "name": "movieId",
         "rawType": "int64",
         "type": "integer"
        },
        {
         "name": "title",
         "rawType": "object",
         "type": "string"
        },
        {
         "name": "genres",
         "rawType": "object",
         "type": "string"
        }
       ],
       "ref": "e547e44d-f662-4bbb-9d7d-b5dc7790e51a",
       "rows": [
        [
         "0",
         "1",
         "Toy Story (1995)",
         "Adventure|Animation|Children|Comedy|Fantasy"
        ],
        [
         "1",
         "2",
         "Jumanji (1995)",
         "Adventure|Children|Fantasy"
        ],
        [
         "2",
         "3",
         "Grumpier Old Men (1995)",
         "Comedy|Romance"
        ],
        [
         "3",
         "4",
         "Waiting to Exhale (1995)",
         "Comedy|Drama|Romance"
        ],
        [
         "4",
         "5",
         "Father of the Bride Part II (1995)",
         "Comedy"
        ],
        [
         "5",
         "6",
         "Heat (1995)",
         "Action|Crime|Thriller"
        ],
        [
         "6",
         "7",
         "Sabrina (1995)",
         "Comedy|Romance"
        ],
        [
         "7",
         "8",
         "Tom and Huck (1995)",
         "Adventure|Children"
        ],
        [
         "8",
         "9",
         "Sudden Death (1995)",
         "Action"
        ],
        [
         "9",
         "10",
         "GoldenEye (1995)",
         "Action|Adventure|Thriller"
        ]
       ],
       "shape": {
        "columns": 3,
        "rows": 10
       }
      },
      "text/html": [
       "<div>\n",
       "<style scoped>\n",
       "    .dataframe tbody tr th:only-of-type {\n",
       "        vertical-align: middle;\n",
       "    }\n",
       "\n",
       "    .dataframe tbody tr th {\n",
       "        vertical-align: top;\n",
       "    }\n",
       "\n",
       "    .dataframe thead th {\n",
       "        text-align: right;\n",
       "    }\n",
       "</style>\n",
       "<table border=\"1\" class=\"dataframe\">\n",
       "  <thead>\n",
       "    <tr style=\"text-align: right;\">\n",
       "      <th></th>\n",
       "      <th>movieId</th>\n",
       "      <th>title</th>\n",
       "      <th>genres</th>\n",
       "    </tr>\n",
       "  </thead>\n",
       "  <tbody>\n",
       "    <tr>\n",
       "      <th>0</th>\n",
       "      <td>1</td>\n",
       "      <td>Toy Story (1995)</td>\n",
       "      <td>Adventure|Animation|Children|Comedy|Fantasy</td>\n",
       "    </tr>\n",
       "    <tr>\n",
       "      <th>1</th>\n",
       "      <td>2</td>\n",
       "      <td>Jumanji (1995)</td>\n",
       "      <td>Adventure|Children|Fantasy</td>\n",
       "    </tr>\n",
       "    <tr>\n",
       "      <th>2</th>\n",
       "      <td>3</td>\n",
       "      <td>Grumpier Old Men (1995)</td>\n",
       "      <td>Comedy|Romance</td>\n",
       "    </tr>\n",
       "    <tr>\n",
       "      <th>3</th>\n",
       "      <td>4</td>\n",
       "      <td>Waiting to Exhale (1995)</td>\n",
       "      <td>Comedy|Drama|Romance</td>\n",
       "    </tr>\n",
       "    <tr>\n",
       "      <th>4</th>\n",
       "      <td>5</td>\n",
       "      <td>Father of the Bride Part II (1995)</td>\n",
       "      <td>Comedy</td>\n",
       "    </tr>\n",
       "    <tr>\n",
       "      <th>5</th>\n",
       "      <td>6</td>\n",
       "      <td>Heat (1995)</td>\n",
       "      <td>Action|Crime|Thriller</td>\n",
       "    </tr>\n",
       "    <tr>\n",
       "      <th>6</th>\n",
       "      <td>7</td>\n",
       "      <td>Sabrina (1995)</td>\n",
       "      <td>Comedy|Romance</td>\n",
       "    </tr>\n",
       "    <tr>\n",
       "      <th>7</th>\n",
       "      <td>8</td>\n",
       "      <td>Tom and Huck (1995)</td>\n",
       "      <td>Adventure|Children</td>\n",
       "    </tr>\n",
       "    <tr>\n",
       "      <th>8</th>\n",
       "      <td>9</td>\n",
       "      <td>Sudden Death (1995)</td>\n",
       "      <td>Action</td>\n",
       "    </tr>\n",
       "    <tr>\n",
       "      <th>9</th>\n",
       "      <td>10</td>\n",
       "      <td>GoldenEye (1995)</td>\n",
       "      <td>Action|Adventure|Thriller</td>\n",
       "    </tr>\n",
       "  </tbody>\n",
       "</table>\n",
       "</div>"
      ],
      "text/plain": [
       "   movieId                               title  \\\n",
       "0        1                    Toy Story (1995)   \n",
       "1        2                      Jumanji (1995)   \n",
       "2        3             Grumpier Old Men (1995)   \n",
       "3        4            Waiting to Exhale (1995)   \n",
       "4        5  Father of the Bride Part II (1995)   \n",
       "5        6                         Heat (1995)   \n",
       "6        7                      Sabrina (1995)   \n",
       "7        8                 Tom and Huck (1995)   \n",
       "8        9                 Sudden Death (1995)   \n",
       "9       10                    GoldenEye (1995)   \n",
       "\n",
       "                                        genres  \n",
       "0  Adventure|Animation|Children|Comedy|Fantasy  \n",
       "1                   Adventure|Children|Fantasy  \n",
       "2                               Comedy|Romance  \n",
       "3                         Comedy|Drama|Romance  \n",
       "4                                       Comedy  \n",
       "5                        Action|Crime|Thriller  \n",
       "6                               Comedy|Romance  \n",
       "7                           Adventure|Children  \n",
       "8                                       Action  \n",
       "9                    Action|Adventure|Thriller  "
      ]
     },
     "execution_count": 1,
     "metadata": {},
     "output_type": "execute_result"
    }
   ],
   "source": [
    "import pandas as pd \n",
    "\n",
    "movies = pd.read_csv('data/movies.csv')\n",
    "movies.head(10)"
   ]
  },
  {
   "cell_type": "code",
   "execution_count": 2,
   "id": "d25b5b05",
   "metadata": {},
   "outputs": [
    {
     "data": {
      "application/vnd.microsoft.datawrangler.viewer.v0+json": {
       "columns": [
        {
         "name": "index",
         "rawType": "int64",
         "type": "integer"
        },
        {
         "name": "movieId",
         "rawType": "int64",
         "type": "integer"
        },
        {
         "name": "title",
         "rawType": "object",
         "type": "string"
        },
        {
         "name": "genres",
         "rawType": "object",
         "type": "string"
        }
       ],
       "ref": "6a793e5f-c552-412c-a2f7-2da4affc90df",
       "rows": [
        [
         "62413",
         "209145",
         "Liberté (2019)",
         "Drama"
        ],
        [
         "62414",
         "209147",
         "The Carpet of Horror (1962)",
         "Crime|Horror"
        ],
        [
         "62415",
         "209151",
         "Mao Zedong 1949 (2019)",
         "(no genres listed)"
        ],
        [
         "62416",
         "209153",
         "Happy Flight (2008)",
         "Comedy|Drama"
        ],
        [
         "62417",
         "209155",
         "Santosh Subramaniam (2008)",
         "Action|Comedy|Romance"
        ],
        [
         "62418",
         "209157",
         "We (2018)",
         "Drama"
        ],
        [
         "62419",
         "209159",
         "Window of the Soul (2001)",
         "Documentary"
        ],
        [
         "62420",
         "209163",
         "Bad Poems (2018)",
         "Comedy|Drama"
        ],
        [
         "62421",
         "209169",
         "A Girl Thing (2001)",
         "(no genres listed)"
        ],
        [
         "62422",
         "209171",
         "Women of Devil's Island (1962)",
         "Action|Adventure|Drama"
        ]
       ],
       "shape": {
        "columns": 3,
        "rows": 10
       }
      },
      "text/html": [
       "<div>\n",
       "<style scoped>\n",
       "    .dataframe tbody tr th:only-of-type {\n",
       "        vertical-align: middle;\n",
       "    }\n",
       "\n",
       "    .dataframe tbody tr th {\n",
       "        vertical-align: top;\n",
       "    }\n",
       "\n",
       "    .dataframe thead th {\n",
       "        text-align: right;\n",
       "    }\n",
       "</style>\n",
       "<table border=\"1\" class=\"dataframe\">\n",
       "  <thead>\n",
       "    <tr style=\"text-align: right;\">\n",
       "      <th></th>\n",
       "      <th>movieId</th>\n",
       "      <th>title</th>\n",
       "      <th>genres</th>\n",
       "    </tr>\n",
       "  </thead>\n",
       "  <tbody>\n",
       "    <tr>\n",
       "      <th>62413</th>\n",
       "      <td>209145</td>\n",
       "      <td>Liberté (2019)</td>\n",
       "      <td>Drama</td>\n",
       "    </tr>\n",
       "    <tr>\n",
       "      <th>62414</th>\n",
       "      <td>209147</td>\n",
       "      <td>The Carpet of Horror (1962)</td>\n",
       "      <td>Crime|Horror</td>\n",
       "    </tr>\n",
       "    <tr>\n",
       "      <th>62415</th>\n",
       "      <td>209151</td>\n",
       "      <td>Mao Zedong 1949 (2019)</td>\n",
       "      <td>(no genres listed)</td>\n",
       "    </tr>\n",
       "    <tr>\n",
       "      <th>62416</th>\n",
       "      <td>209153</td>\n",
       "      <td>Happy Flight (2008)</td>\n",
       "      <td>Comedy|Drama</td>\n",
       "    </tr>\n",
       "    <tr>\n",
       "      <th>62417</th>\n",
       "      <td>209155</td>\n",
       "      <td>Santosh Subramaniam (2008)</td>\n",
       "      <td>Action|Comedy|Romance</td>\n",
       "    </tr>\n",
       "    <tr>\n",
       "      <th>62418</th>\n",
       "      <td>209157</td>\n",
       "      <td>We (2018)</td>\n",
       "      <td>Drama</td>\n",
       "    </tr>\n",
       "    <tr>\n",
       "      <th>62419</th>\n",
       "      <td>209159</td>\n",
       "      <td>Window of the Soul (2001)</td>\n",
       "      <td>Documentary</td>\n",
       "    </tr>\n",
       "    <tr>\n",
       "      <th>62420</th>\n",
       "      <td>209163</td>\n",
       "      <td>Bad Poems (2018)</td>\n",
       "      <td>Comedy|Drama</td>\n",
       "    </tr>\n",
       "    <tr>\n",
       "      <th>62421</th>\n",
       "      <td>209169</td>\n",
       "      <td>A Girl Thing (2001)</td>\n",
       "      <td>(no genres listed)</td>\n",
       "    </tr>\n",
       "    <tr>\n",
       "      <th>62422</th>\n",
       "      <td>209171</td>\n",
       "      <td>Women of Devil's Island (1962)</td>\n",
       "      <td>Action|Adventure|Drama</td>\n",
       "    </tr>\n",
       "  </tbody>\n",
       "</table>\n",
       "</div>"
      ],
      "text/plain": [
       "       movieId                           title                  genres\n",
       "62413   209145                  Liberté (2019)                   Drama\n",
       "62414   209147     The Carpet of Horror (1962)            Crime|Horror\n",
       "62415   209151          Mao Zedong 1949 (2019)      (no genres listed)\n",
       "62416   209153             Happy Flight (2008)            Comedy|Drama\n",
       "62417   209155      Santosh Subramaniam (2008)   Action|Comedy|Romance\n",
       "62418   209157                       We (2018)                   Drama\n",
       "62419   209159       Window of the Soul (2001)             Documentary\n",
       "62420   209163                Bad Poems (2018)            Comedy|Drama\n",
       "62421   209169             A Girl Thing (2001)      (no genres listed)\n",
       "62422   209171  Women of Devil's Island (1962)  Action|Adventure|Drama"
      ]
     },
     "execution_count": 2,
     "metadata": {},
     "output_type": "execute_result"
    }
   ],
   "source": [
    "movies.tail(10)"
   ]
  },
  {
   "cell_type": "code",
   "execution_count": 3,
   "id": "cc5c092e",
   "metadata": {},
   "outputs": [
    {
     "data": {
      "application/vnd.microsoft.datawrangler.viewer.v0+json": {
       "columns": [
        {
         "name": "index",
         "rawType": "int64",
         "type": "integer"
        },
        {
         "name": "clean_title",
         "rawType": "object",
         "type": "string"
        }
       ],
       "ref": "a8b81b66-4dcb-4df1-b360-4dce4fe1f7cb",
       "rows": [
        [
         "0",
         "Toy Story 1995"
        ],
        [
         "1",
         "Jumanji 1995"
        ],
        [
         "2",
         "Grumpier Old Men 1995"
        ],
        [
         "3",
         "Waiting to Exhale 1995"
        ],
        [
         "4",
         "Father of the Bride Part II 1995"
        ],
        [
         "5",
         "Heat 1995"
        ],
        [
         "6",
         "Sabrina 1995"
        ],
        [
         "7",
         "Tom and Huck 1995"
        ],
        [
         "8",
         "Sudden Death 1995"
        ],
        [
         "9",
         "GoldenEye 1995"
        ]
       ],
       "shape": {
        "columns": 1,
        "rows": 10
       }
      },
      "text/plain": [
       "0                      Toy Story 1995\n",
       "1                        Jumanji 1995\n",
       "2               Grumpier Old Men 1995\n",
       "3              Waiting to Exhale 1995\n",
       "4    Father of the Bride Part II 1995\n",
       "5                           Heat 1995\n",
       "6                        Sabrina 1995\n",
       "7                   Tom and Huck 1995\n",
       "8                   Sudden Death 1995\n",
       "9                      GoldenEye 1995\n",
       "Name: clean_title, dtype: object"
      ]
     },
     "execution_count": 3,
     "metadata": {},
     "output_type": "execute_result"
    }
   ],
   "source": [
    "# extra characters like parentheses in the movie titles will make it difficult to search for movies.\n",
    "# I will use regular expressions to clean up the title column by removing any character that isn't a letter, digit, or a space.\n",
    "\n",
    "import re \n",
    "\n",
    "def clean_title(title: str) -> str:\n",
    "    return re.sub(\"[^a-zA-Z0-9 ]\", \"\", title)\n",
    "\n",
    "movies['clean_title'] = movies['title'].apply(lambda title: clean_title(title))\n",
    "movies['clean_title'].head(10)"
   ]
  },
  {
   "cell_type": "markdown",
   "id": "51746362",
   "metadata": {},
   "source": [
    "Since the movie titles are text-based and ML models don't work directly on words, I will use the `TfidfVectorizer` tool in python to transform the text data into numerical form that captures how important each word is."
   ]
  },
  {
   "cell_type": "code",
   "execution_count": 4,
   "id": "3a892c47",
   "metadata": {},
   "outputs": [
    {
     "name": "stdout",
     "output_type": "stream",
     "text": [
      "<Compressed Sparse Row sparse matrix of dtype 'float64'\n",
      "\twith 446566 stored elements and shape (62423, 170073)>\n",
      "  Coords\tValues\n",
      "  (0, 153609)\t0.4788631896261391\n",
      "  (0, 138134)\t0.30818287987354687\n",
      "  (0, 763)\t0.2947573407787223\n",
      "  (0, 153617)\t0.5236464902527855\n",
      "  (0, 138180)\t0.5609151642422612\n",
      "  (1, 763)\t0.3284429867728573\n",
      "  (1, 76515)\t0.6556226145512709\n",
      "  (1, 76516)\t0.679914841526996\n",
      "  (2, 763)\t0.22159051090518359\n",
      "  (2, 61531)\t0.4587178998289233\n",
      "  (2, 107020)\t0.2945915056134832\n",
      "  (2, 93306)\t0.2658829644982531\n",
      "  (2, 61532)\t0.4587178998289233\n",
      "  (2, 107075)\t0.4026827592738571\n",
      "  (2, 93339)\t0.4587178998289233\n",
      "  (3, 763)\t0.21653641961669365\n",
      "  (3, 161345)\t0.3375257478128795\n",
      "  (3, 151795)\t0.18830007825002149\n",
      "  (3, 47814)\t0.4482553482876627\n",
      "  (3, 161363)\t0.4482553482876627\n",
      "  (3, 151964)\t0.4482553482876627\n",
      "  (3, 47815)\t0.4482553482876627\n",
      "  (4, 763)\t0.19764049948025617\n",
      "  (4, 49639)\t0.2743880168654919\n",
      "  (4, 104437)\t0.1176070632906874\n",
      "  :\t:\n",
      "  (62419, 165119)\t0.3842738783112516\n",
      "  (62419, 842)\t0.21664294220561653\n",
      "  (62419, 135163)\t0.335141385640017\n",
      "  (62419, 148606)\t0.4183256702981802\n",
      "  (62419, 165130)\t0.47653759319058564\n",
      "  (62419, 135172)\t0.47653759319058564\n",
      "  (62420, 12286)\t0.3283595330636027\n",
      "  (62420, 892)\t0.21136300980350198\n",
      "  (62420, 114905)\t0.5091970760558331\n",
      "  (62420, 12376)\t0.542320953342782\n",
      "  (62420, 114907)\t0.542320953342782\n",
      "  (62421, 58282)\t0.3138870048540488\n",
      "  (62421, 150051)\t0.41654076435521686\n",
      "  (62421, 842)\t0.26983928187857303\n",
      "  (62421, 150062)\t0.5723440843449776\n",
      "  (62421, 58439)\t0.5723440843449776\n",
      "  (62422, 104437)\t0.12740993355811386\n",
      "  (62422, 73452)\t0.26792844616620376\n",
      "  (62422, 166373)\t0.2756686566320553\n",
      "  (62422, 674)\t0.24886479219075572\n",
      "  (62422, 38943)\t0.29500074514513513\n",
      "  (62422, 166450)\t0.3766589696192012\n",
      "  (62422, 38989)\t0.40745380510374735\n",
      "  (62422, 73473)\t0.4274051580062007\n",
      "  (62422, 104945)\t0.44324143771718727\n"
     ]
    }
   ],
   "source": [
    "from sklearn.feature_extraction.text import TfidfVectorizer\n",
    "\n",
    "vectorizer = TfidfVectorizer(ngram_range=(1, 2))\n",
    "\n",
    "tfidf = vectorizer.fit_transform(movies['clean_title'])\n",
    "print(tfidf)"
   ]
  },
  {
   "cell_type": "markdown",
   "id": "e2e951ac",
   "metadata": {},
   "source": [
    "With the `tfidf` matrix calculated, computing the similarity between our search term and the titles in our data becomes much more straightforward. The `scikit-learn` library has a handy function called `cosine_similarity()` to accomplish this."
   ]
  },
  {
   "cell_type": "code",
   "execution_count": 5,
   "id": "df2b583f",
   "metadata": {},
   "outputs": [
    {
     "data": {
      "text/plain": [
       "array([0.29475734, 0.32844299, 0.22159051, ..., 0.        , 0.        ,\n",
       "       0.        ], shape=(62423,))"
      ]
     },
     "execution_count": 5,
     "metadata": {},
     "output_type": "execute_result"
    }
   ],
   "source": [
    "from sklearn.metrics.pairwise import cosine_similarity\n",
    "import numpy as np \n",
    "\n",
    "# for each given search term (title), this function will create and return an NDArray whose cells are values between 0 and 1 indicating how similar the search term and the title at the corresponding location in the tfidf matrix we created previously. A value closer to 1 means they are more similar.\n",
    "def search(title: str) -> np.ndarray:\n",
    "    title = clean_title(title)\n",
    "    query_vec = vectorizer.transform([title])\n",
    "    similarity = cosine_similarity(query_vec, tfidf).flatten()\n",
    "    return similarity\n",
    "\n",
    "# We remember that movies.head() showed a few titles with '1995' string in it, so we should expect when we call search(\"1995\") that we get values > 0 for the first few elements of the ndarray\n",
    "search(\"1995\")\n"
   ]
  },
  {
   "cell_type": "code",
   "execution_count": 6,
   "id": "bdf106c3",
   "metadata": {},
   "outputs": [
    {
     "data": {
      "application/vnd.microsoft.datawrangler.viewer.v0+json": {
       "columns": [
        {
         "name": "index",
         "rawType": "int64",
         "type": "integer"
        },
        {
         "name": "movieId",
         "rawType": "int64",
         "type": "integer"
        },
        {
         "name": "title",
         "rawType": "object",
         "type": "string"
        },
        {
         "name": "genres",
         "rawType": "object",
         "type": "string"
        },
        {
         "name": "clean_title",
         "rawType": "object",
         "type": "string"
        }
       ],
       "ref": "b00265ef-c7e3-4724-9f95-1cb35c32e8ad",
       "rows": [
        [
         "20497",
         "106022",
         "Toy Story of Terror (2013)",
         "Animation|Children|Comedy",
         "Toy Story of Terror 2013"
        ],
        [
         "14813",
         "78499",
         "Toy Story 3 (2010)",
         "Adventure|Animation|Children|Comedy|Fantasy|IMAX",
         "Toy Story 3 2010"
        ],
        [
         "59767",
         "201588",
         "Toy Story 4 (2019)",
         "Adventure|Animation|Children|Comedy",
         "Toy Story 4 2019"
        ],
        [
         "3021",
         "3114",
         "Toy Story 2 (1999)",
         "Adventure|Animation|Children|Comedy|Fantasy",
         "Toy Story 2 1999"
        ],
        [
         "0",
         "1",
         "Toy Story (1995)",
         "Adventure|Animation|Children|Comedy|Fantasy",
         "Toy Story 1995"
        ]
       ],
       "shape": {
        "columns": 4,
        "rows": 5
       }
      },
      "text/html": [
       "<div>\n",
       "<style scoped>\n",
       "    .dataframe tbody tr th:only-of-type {\n",
       "        vertical-align: middle;\n",
       "    }\n",
       "\n",
       "    .dataframe tbody tr th {\n",
       "        vertical-align: top;\n",
       "    }\n",
       "\n",
       "    .dataframe thead th {\n",
       "        text-align: right;\n",
       "    }\n",
       "</style>\n",
       "<table border=\"1\" class=\"dataframe\">\n",
       "  <thead>\n",
       "    <tr style=\"text-align: right;\">\n",
       "      <th></th>\n",
       "      <th>movieId</th>\n",
       "      <th>title</th>\n",
       "      <th>genres</th>\n",
       "      <th>clean_title</th>\n",
       "    </tr>\n",
       "  </thead>\n",
       "  <tbody>\n",
       "    <tr>\n",
       "      <th>20497</th>\n",
       "      <td>106022</td>\n",
       "      <td>Toy Story of Terror (2013)</td>\n",
       "      <td>Animation|Children|Comedy</td>\n",
       "      <td>Toy Story of Terror 2013</td>\n",
       "    </tr>\n",
       "    <tr>\n",
       "      <th>14813</th>\n",
       "      <td>78499</td>\n",
       "      <td>Toy Story 3 (2010)</td>\n",
       "      <td>Adventure|Animation|Children|Comedy|Fantasy|IMAX</td>\n",
       "      <td>Toy Story 3 2010</td>\n",
       "    </tr>\n",
       "    <tr>\n",
       "      <th>59767</th>\n",
       "      <td>201588</td>\n",
       "      <td>Toy Story 4 (2019)</td>\n",
       "      <td>Adventure|Animation|Children|Comedy</td>\n",
       "      <td>Toy Story 4 2019</td>\n",
       "    </tr>\n",
       "    <tr>\n",
       "      <th>3021</th>\n",
       "      <td>3114</td>\n",
       "      <td>Toy Story 2 (1999)</td>\n",
       "      <td>Adventure|Animation|Children|Comedy|Fantasy</td>\n",
       "      <td>Toy Story 2 1999</td>\n",
       "    </tr>\n",
       "    <tr>\n",
       "      <th>0</th>\n",
       "      <td>1</td>\n",
       "      <td>Toy Story (1995)</td>\n",
       "      <td>Adventure|Animation|Children|Comedy|Fantasy</td>\n",
       "      <td>Toy Story 1995</td>\n",
       "    </tr>\n",
       "  </tbody>\n",
       "</table>\n",
       "</div>"
      ],
      "text/plain": [
       "       movieId                       title  \\\n",
       "20497   106022  Toy Story of Terror (2013)   \n",
       "14813    78499          Toy Story 3 (2010)   \n",
       "59767   201588          Toy Story 4 (2019)   \n",
       "3021      3114          Toy Story 2 (1999)   \n",
       "0            1            Toy Story (1995)   \n",
       "\n",
       "                                                 genres  \\\n",
       "20497                         Animation|Children|Comedy   \n",
       "14813  Adventure|Animation|Children|Comedy|Fantasy|IMAX   \n",
       "59767               Adventure|Animation|Children|Comedy   \n",
       "3021        Adventure|Animation|Children|Comedy|Fantasy   \n",
       "0           Adventure|Animation|Children|Comedy|Fantasy   \n",
       "\n",
       "                    clean_title  \n",
       "20497  Toy Story of Terror 2013  \n",
       "14813          Toy Story 3 2010  \n",
       "59767          Toy Story 4 2019  \n",
       "3021           Toy Story 2 1999  \n",
       "0                Toy Story 1995  "
      ]
     },
     "execution_count": 6,
     "metadata": {},
     "output_type": "execute_result"
    }
   ],
   "source": [
    "# return the top 5 highest matching movies based on the search term\n",
    "similarity = search(\"Toy Story 1995\")\n",
    "indices = np.argpartition(similarity, -5)[-5:]\n",
    "top_5_movies = movies.iloc[indices]\n",
    "top_5_movies"
   ]
  },
  {
   "cell_type": "markdown",
   "id": "5d79298d",
   "metadata": {},
   "source": [
    "Ok, I think I want to create another search function that handles the fetching of rows from the `movies` dataframe. The new function `nsearch(title, n)` will accept a second parameter, `n`, which corresponds to the top N matches for the given title. \n"
   ]
  },
  {
   "cell_type": "code",
   "execution_count": 7,
   "id": "84db9fb8",
   "metadata": {},
   "outputs": [
    {
     "data": {
      "application/vnd.microsoft.datawrangler.viewer.v0+json": {
       "columns": [
        {
         "name": "index",
         "rawType": "int64",
         "type": "integer"
        },
        {
         "name": "movieId",
         "rawType": "int64",
         "type": "integer"
        },
        {
         "name": "title",
         "rawType": "object",
         "type": "string"
        },
        {
         "name": "genres",
         "rawType": "object",
         "type": "string"
        },
        {
         "name": "clean_title",
         "rawType": "object",
         "type": "string"
        }
       ],
       "ref": "fb4260b9-feab-46ef-a05b-90163eb0f541",
       "rows": [
        [
         "0",
         "1",
         "Toy Story (1995)",
         "Adventure|Animation|Children|Comedy|Fantasy",
         "Toy Story 1995"
        ]
       ],
       "shape": {
        "columns": 4,
        "rows": 1
       }
      },
      "text/html": [
       "<div>\n",
       "<style scoped>\n",
       "    .dataframe tbody tr th:only-of-type {\n",
       "        vertical-align: middle;\n",
       "    }\n",
       "\n",
       "    .dataframe tbody tr th {\n",
       "        vertical-align: top;\n",
       "    }\n",
       "\n",
       "    .dataframe thead th {\n",
       "        text-align: right;\n",
       "    }\n",
       "</style>\n",
       "<table border=\"1\" class=\"dataframe\">\n",
       "  <thead>\n",
       "    <tr style=\"text-align: right;\">\n",
       "      <th></th>\n",
       "      <th>movieId</th>\n",
       "      <th>title</th>\n",
       "      <th>genres</th>\n",
       "      <th>clean_title</th>\n",
       "    </tr>\n",
       "  </thead>\n",
       "  <tbody>\n",
       "    <tr>\n",
       "      <th>0</th>\n",
       "      <td>1</td>\n",
       "      <td>Toy Story (1995)</td>\n",
       "      <td>Adventure|Animation|Children|Comedy|Fantasy</td>\n",
       "      <td>Toy Story 1995</td>\n",
       "    </tr>\n",
       "  </tbody>\n",
       "</table>\n",
       "</div>"
      ],
      "text/plain": [
       "   movieId             title                                       genres  \\\n",
       "0        1  Toy Story (1995)  Adventure|Animation|Children|Comedy|Fantasy   \n",
       "\n",
       "      clean_title  \n",
       "0  Toy Story 1995  "
      ]
     },
     "execution_count": 7,
     "metadata": {},
     "output_type": "execute_result"
    }
   ],
   "source": [
    "def nsearch(title: str, n: int = 1) -> pd.DataFrame:\n",
    "    title = clean_title(title)\n",
    "    query_vec = vectorizer.transform([title])\n",
    "    similarity = cosine_similarity(query_vec, tfidf).flatten()\n",
    "    indices = np.argpartition(similarity, -n)[-n:]\n",
    "    results = movies.iloc[indices].sort_index()\n",
    "    return results\n",
    "\n",
    "# lets see if it works as expected\n",
    "top_matching_movie = nsearch(\"Toy Story 1995\")\n",
    "top_matching_movie # should be the row containing 'Toy Story 1995'"
   ]
  },
  {
   "cell_type": "code",
   "execution_count": 8,
   "id": "f9134d64",
   "metadata": {},
   "outputs": [
    {
     "data": {
      "application/vnd.microsoft.datawrangler.viewer.v0+json": {
       "columns": [
        {
         "name": "index",
         "rawType": "int64",
         "type": "integer"
        },
        {
         "name": "movieId",
         "rawType": "int64",
         "type": "integer"
        },
        {
         "name": "title",
         "rawType": "object",
         "type": "string"
        },
        {
         "name": "genres",
         "rawType": "object",
         "type": "string"
        },
        {
         "name": "clean_title",
         "rawType": "object",
         "type": "string"
        }
       ],
       "ref": "507ac3ae-e339-4ad3-94fc-26e83b3bde6c",
       "rows": [
        [
         "0",
         "1",
         "Toy Story (1995)",
         "Adventure|Animation|Children|Comedy|Fantasy",
         "Toy Story 1995"
        ],
        [
         "3021",
         "3114",
         "Toy Story 2 (1999)",
         "Adventure|Animation|Children|Comedy|Fantasy",
         "Toy Story 2 1999"
        ],
        [
         "14813",
         "78499",
         "Toy Story 3 (2010)",
         "Adventure|Animation|Children|Comedy|Fantasy|IMAX",
         "Toy Story 3 2010"
        ],
        [
         "20497",
         "106022",
         "Toy Story of Terror (2013)",
         "Animation|Children|Comedy",
         "Toy Story of Terror 2013"
        ],
        [
         "59767",
         "201588",
         "Toy Story 4 (2019)",
         "Adventure|Animation|Children|Comedy",
         "Toy Story 4 2019"
        ]
       ],
       "shape": {
        "columns": 4,
        "rows": 5
       }
      },
      "text/html": [
       "<div>\n",
       "<style scoped>\n",
       "    .dataframe tbody tr th:only-of-type {\n",
       "        vertical-align: middle;\n",
       "    }\n",
       "\n",
       "    .dataframe tbody tr th {\n",
       "        vertical-align: top;\n",
       "    }\n",
       "\n",
       "    .dataframe thead th {\n",
       "        text-align: right;\n",
       "    }\n",
       "</style>\n",
       "<table border=\"1\" class=\"dataframe\">\n",
       "  <thead>\n",
       "    <tr style=\"text-align: right;\">\n",
       "      <th></th>\n",
       "      <th>movieId</th>\n",
       "      <th>title</th>\n",
       "      <th>genres</th>\n",
       "      <th>clean_title</th>\n",
       "    </tr>\n",
       "  </thead>\n",
       "  <tbody>\n",
       "    <tr>\n",
       "      <th>0</th>\n",
       "      <td>1</td>\n",
       "      <td>Toy Story (1995)</td>\n",
       "      <td>Adventure|Animation|Children|Comedy|Fantasy</td>\n",
       "      <td>Toy Story 1995</td>\n",
       "    </tr>\n",
       "    <tr>\n",
       "      <th>3021</th>\n",
       "      <td>3114</td>\n",
       "      <td>Toy Story 2 (1999)</td>\n",
       "      <td>Adventure|Animation|Children|Comedy|Fantasy</td>\n",
       "      <td>Toy Story 2 1999</td>\n",
       "    </tr>\n",
       "    <tr>\n",
       "      <th>14813</th>\n",
       "      <td>78499</td>\n",
       "      <td>Toy Story 3 (2010)</td>\n",
       "      <td>Adventure|Animation|Children|Comedy|Fantasy|IMAX</td>\n",
       "      <td>Toy Story 3 2010</td>\n",
       "    </tr>\n",
       "    <tr>\n",
       "      <th>20497</th>\n",
       "      <td>106022</td>\n",
       "      <td>Toy Story of Terror (2013)</td>\n",
       "      <td>Animation|Children|Comedy</td>\n",
       "      <td>Toy Story of Terror 2013</td>\n",
       "    </tr>\n",
       "    <tr>\n",
       "      <th>59767</th>\n",
       "      <td>201588</td>\n",
       "      <td>Toy Story 4 (2019)</td>\n",
       "      <td>Adventure|Animation|Children|Comedy</td>\n",
       "      <td>Toy Story 4 2019</td>\n",
       "    </tr>\n",
       "  </tbody>\n",
       "</table>\n",
       "</div>"
      ],
      "text/plain": [
       "       movieId                       title  \\\n",
       "0            1            Toy Story (1995)   \n",
       "3021      3114          Toy Story 2 (1999)   \n",
       "14813    78499          Toy Story 3 (2010)   \n",
       "20497   106022  Toy Story of Terror (2013)   \n",
       "59767   201588          Toy Story 4 (2019)   \n",
       "\n",
       "                                                 genres  \\\n",
       "0           Adventure|Animation|Children|Comedy|Fantasy   \n",
       "3021        Adventure|Animation|Children|Comedy|Fantasy   \n",
       "14813  Adventure|Animation|Children|Comedy|Fantasy|IMAX   \n",
       "20497                         Animation|Children|Comedy   \n",
       "59767               Adventure|Animation|Children|Comedy   \n",
       "\n",
       "                    clean_title  \n",
       "0                Toy Story 1995  \n",
       "3021           Toy Story 2 1999  \n",
       "14813          Toy Story 3 2010  \n",
       "20497  Toy Story of Terror 2013  \n",
       "59767          Toy Story 4 2019  "
      ]
     },
     "execution_count": 8,
     "metadata": {},
     "output_type": "execute_result"
    }
   ],
   "source": [
    "top_5_matching_movies = nsearch(\"Toy Story 1995\", n=5)\n",
    "top_5_matching_movies"
   ]
  },
  {
   "cell_type": "markdown",
   "id": "d8744602",
   "metadata": {},
   "source": [
    "To make it easier to interact with the search function, I will use the `ipywidgets` library to create a search box that conveniently displays results."
   ]
  },
  {
   "cell_type": "code",
   "execution_count": 22,
   "id": "c540b807",
   "metadata": {},
   "outputs": [
    {
     "data": {
      "application/vnd.jupyter.widget-view+json": {
       "model_id": "715565620bd1457b917b02e979718f3e",
       "version_major": 2,
       "version_minor": 0
      },
      "text/plain": [
       "VBox(children=(HBox(children=(Text(value='', description='Movie Title:', placeholder='Search for a movie...'),…"
      ]
     },
     "metadata": {},
     "output_type": "display_data"
    }
   ],
   "source": [
    "import ipywidgets as widgets\n",
    "from IPython.display import display\n",
    "\n",
    "movie_input = widgets.Text(\n",
    "    value=\"\",\n",
    "    description=\"Movie Title:\",\n",
    "    placeholder=\"Search for a movie...\",\n",
    "    disabled=False\n",
    ")\n",
    "\n",
    "n_input = widgets.BoundedIntText(\n",
    "    value=5,          \n",
    "    min=1, max=50,    \n",
    "    step=1,\n",
    "    description=\"Results:\"\n",
    ")\n",
    "\n",
    "movie_list = widgets.Output()\n",
    "\n",
    "# handler that reacts to either input changing\n",
    "def run_search(change=None):\n",
    "    with movie_list:\n",
    "        movie_list.clear_output(wait=True)\n",
    "        title = movie_input.value.strip()\n",
    "        n = n_input.value or 5 \n",
    "        if len(title) >= 3:\n",
    "            display(nsearch(title, n=int(n)))\n",
    "\n",
    "movie_input.observe(run_search, names=\"value\")\n",
    "n_input.observe(run_search, names=\"value\")\n",
    "\n",
    "display(widgets.VBox([widgets.HBox([movie_input, n_input]), movie_list]))"
   ]
  },
  {
   "cell_type": "code",
   "execution_count": null,
   "id": "243fe84b",
   "metadata": {},
   "outputs": [],
   "source": []
  }
 ],
 "metadata": {
  "kernelspec": {
   "display_name": "venv",
   "language": "python",
   "name": "python3"
  },
  "language_info": {
   "codemirror_mode": {
    "name": "ipython",
    "version": 3
   },
   "file_extension": ".py",
   "mimetype": "text/x-python",
   "name": "python",
   "nbconvert_exporter": "python",
   "pygments_lexer": "ipython3",
   "version": "3.13.5"
  }
 },
 "nbformat": 4,
 "nbformat_minor": 5
}
